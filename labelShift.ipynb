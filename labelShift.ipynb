{
 "cells": [
  {
   "cell_type": "code",
   "execution_count": 22,
   "metadata": {},
   "outputs": [],
   "source": [
    "import numpy as np\n",
    "import matplotlib.pyplot as plt\n",
    "import torch.nn as nn\n",
    "import torch\n",
    "import torch.nn.functional as F\n",
    "from tqdm import tqdm\n",
    "import copy\n",
    "import collections"
   ]
  },
  {
   "cell_type": "code",
   "execution_count": 15,
   "metadata": {},
   "outputs": [],
   "source": [
    "def gen_data(n, d, p, w, gamma=1):\n",
    "    # sample labels from torch where label 1 has probability p\n",
    "    ys = torch.distributions.Bernoulli(torch.tensor(p)).sample((n, 1))\n",
    "    # sample points from a d dimensional gaussian\n",
    "    zs = torch.randn(n, d)\n",
    "    xs = zs + gamma * ys * w\n",
    "    return xs.float(), ys"
   ]
  },
  {
   "cell_type": "code",
   "execution_count": 16,
   "metadata": {},
   "outputs": [],
   "source": [
    "def bayes_accuracy(xTrain, yTrain, xTest, yTest):\n",
    "    model = nn.Sequential(nn.Linear(xTrain.shape[1], 128), nn.ReLU(), nn.Linear(128, 128), nn.ReLU(), nn.Linear(128, 1), nn.Sigmoid())\n",
    "    optimizer = torch.optim.SGD(model.parameters(), lr=0.001)\n",
    "    for i in tqdm(range(10000)):\n",
    "        optimizer.zero_grad()\n",
    "        loss = F.binary_cross_entropy(model(xTrain), yTrain)\n",
    "        loss.backward()\n",
    "        optimizer.step()\n",
    "    return ((model(xTest) > 0.5) == yTest).float().mean().item()\n"
   ]
  },
  {
   "cell_type": "code",
   "execution_count": 17,
   "metadata": {},
   "outputs": [],
   "source": [
    "def train_on_source(xTrain, yTrain, xTest, yTest):\n",
    "    model = nn.Sequential(nn.Linear(xTrain.shape[1], 1), nn.Sigmoid())\n",
    "    optimizer = torch.optim.SGD(model.parameters(), lr=0.001)\n",
    "    for i in tqdm(range(10000)):\n",
    "        optimizer.zero_grad()\n",
    "        loss = F.binary_cross_entropy(model(xTrain), yTrain)\n",
    "        loss.backward()\n",
    "        optimizer.step()\n",
    "    print(\"\\n Accuracy is:\", ((model(xTest) > 0.5) == yTest).float().mean().item())\n",
    "    return model"
   ]
  },
  {
   "cell_type": "code",
   "execution_count": null,
   "metadata": {},
   "outputs": [],
   "source": [
    "def adapt(model, xTarget):\n",
    "    optimizer = torch.optim.Adam(model.parameters(), lr=0.001)\n",
    "    for i in tqdm(range(1000)):\n",
    "        optimizer.zero_grad()\n",
    "        probPreds = model(xTarget)\n",
    "        labelPreds = (probPreds > 0.5).float().detach()\n",
    "        loss = F.binary_cross_entropy(probPreds, labelPreds)\n",
    "        loss.backward()\n",
    "        optimizer.step()\n",
    "    return model"
   ]
  },
  {
   "cell_type": "code",
   "execution_count": 19,
   "metadata": {},
   "outputs": [],
   "source": [
    "def evaluate(model, x, y):\n",
    "    return((model(x) > 0.5) == y).float().mean().item()"
   ]
  },
  {
   "cell_type": "code",
   "execution_count": 20,
   "metadata": {},
   "outputs": [],
   "source": [
    "xSourceTrain, ySourceTrain = gen_data(1000, 10, 0.5, np.ones(10)/np.sqrt(10))\n",
    "xSourceTest, ySourceTest = gen_data(1000, 10, 0.5, np.ones(10)/np.sqrt(10))\n",
    "\n",
    "p = 0.75\n",
    "xTargetTrain, yTargetTrain = gen_data(1000, 10, p, np.ones(10)/np.sqrt(10))\n",
    "xTargetTest, yTargetTest = gen_data(1000, 10, p, np.ones(10)/np.sqrt(10))"
   ]
  },
  {
   "cell_type": "code",
   "execution_count": null,
   "metadata": {},
   "outputs": [],
   "source": [
    "bAccuSource = bayes_accuracy(xSourceTrain, ySourceTrain, xSourceTest, ySourceTest)\n",
    "bAccuTarget = bayes_accuracy(xTargetTrain, yTargetTrain, xTargetTest, yTargetTest)\n",
    "print(\"Bayes accuracy on source is:\", bAccuSource)\n",
    "print(\"Bayes accuracy on target is:\", bAccuTarget)"
   ]
  },
  {
   "cell_type": "code",
   "execution_count": null,
   "metadata": {},
   "outputs": [],
   "source": [
    "model = train_on_source(xSourceTrain, ySourceTrain, xSourceTest, ySourceTest)\n",
    "print(\"Accuracy on source is:\", evaluate(model, xSourceTest, ySourceTest))\n",
    "print(\"Accuracy on target is:\", evaluate(model, xTargetTest, yTargetTest))\n",
    "model = adapt(model, xTargetTrain)\n",
    "print(\"Accuracy on source is:\", evaluate(model, xSourceTest, ySourceTest))\n",
    "print(\"Accuracy on target is:\", evaluate(model, xTargetTest, yTargetTest))"
   ]
  },
  {
   "cell_type": "code",
   "execution_count": null,
   "metadata": {},
   "outputs": [],
   "source": [
    "bayesAccus = collections.defaultdict(int)\n",
    "for _ in range(10):\n",
    "    for i in range(10):\n",
    "        p = 0.5 + i/20\n",
    "        xTargetTrain, yTargetTrain = gen_data(1000, 10, p, np.ones(10)/np.sqrt(10))\n",
    "        xTargetTest, yTargetTest = gen_data(1000, 10, p, np.ones(10)/np.sqrt(10))\n",
    "        bAccuTarget = bayes_accuracy(xTargetTrain, yTargetTrain, xTargetTest, yTargetTest)\n",
    "        bayesAccus[p] += bAccuTarget\n",
    "for p in bayesAccus:\n",
    "    bayesAccus[p] /= 10"
   ]
  },
  {
   "cell_type": "code",
   "execution_count": null,
   "metadata": {},
   "outputs": [],
   "source": [
    "plt.plot(list(bayesAccus.keys()), list(bayesAccus.values()), label=\"Bayes\")"
   ]
  },
  {
   "cell_type": "code",
   "execution_count": null,
   "metadata": {},
   "outputs": [],
   "source": [
    "accus = collections.defaultdict(int)\n",
    "for _ in range(10):\n",
    "    xSourceTrain, ySourceTrain = gen_data(1000, 10, 0.5, np.ones(10)/np.sqrt(10))\n",
    "    xSourceTest, ySourceTest = gen_data(1000, 10, 0.5, np.ones(10)/np.sqrt(10))\n",
    "    model = train_on_source(xSourceTrain, ySourceTrain, xSourceTest, ySourceTest)\n",
    "    for i in range(10):\n",
    "        temp_model = copy.deepcopy(model)\n",
    "        p = 0.5 + i/20\n",
    "        xTargetTrain, yTargetTrain = gen_data(1000, 10, p, np.ones(10)/np.sqrt(10))\n",
    "        xTargetTest, yTargetTest = gen_data(1000, 10, p, np.ones(10)/np.sqrt(10))\n",
    "        temp_model = adapt(temp_model, xTargetTrain)\n",
    "        accus[p] += evaluate(temp_model, xTargetTest, yTargetTest)\n",
    "for p in accus:\n",
    "    accus[p] /= 10"
   ]
  },
  {
   "cell_type": "code",
   "execution_count": null,
   "metadata": {},
   "outputs": [],
   "source": [
    "plt.plot(list(bayesAccus.keys()), list(bayesAccus.values()), label=\"Bayes\")\n",
    "plt.plot(list(accus.keys()), list(accus.values()), label=\"NN\")\n",
    "plt.xlabel(\"p\")\n",
    "plt.ylabel(\"Accuracy\")\n",
    "plt.legend()\n",
    "plt.show()\n"
   ]
  },
  {
   "cell_type": "code",
   "execution_count": null,
   "metadata": {},
   "outputs": [],
   "source": [
    "plt.plot(np.arange(0.5, 1, 0.05), accus, label=\"NN\")\n",
    "plt.plot(np.arange(0.5, 1, 0.05), bayesAccus, label=\"Bayes\")\n",
    "    plt.xlabel(\"p\")\n",
    "    plt.ylabel(\"Accuracy\")\n",
    "    plt.legend()\n"
   ]
  }
 ],
 "metadata": {
  "kernelspec": {
   "display_name": "base",
   "language": "python",
   "name": "python3"
  },
  "language_info": {
   "codemirror_mode": {
    "name": "ipython",
    "version": 3
   },
   "file_extension": ".py",
   "mimetype": "text/x-python",
   "name": "python",
   "nbconvert_exporter": "python",
   "pygments_lexer": "ipython3",
   "version": "3.9.12 (main, Apr  5 2022, 01:53:17) \n[Clang 12.0.0 ]"
  },
  "orig_nbformat": 4,
  "vscode": {
   "interpreter": {
    "hash": "1fe8eaf950b0cf64c1b70de22759d9a144a2595c541b4003711edd1f96d908e5"
   }
  }
 },
 "nbformat": 4,
 "nbformat_minor": 2
}
