{
 "cells": [
  {
   "cell_type": "code",
   "execution_count": 1,
   "metadata": {},
   "outputs": [],
   "source": [
    "import numpy as np\n",
    "import matplotlib.pyplot as plt\n",
    "import torch.nn as nn\n",
    "import torch\n",
    "import torch.nn.functional as F\n",
    "from tqdm import tqdm\n",
    "import copy\n",
    "import collections"
   ]
  },
  {
   "cell_type": "code",
   "execution_count": 2,
   "metadata": {},
   "outputs": [],
   "source": [
    "def gen_data(n, d, p, scale=1.0):\n",
    "    ys = torch.distributions.Bernoulli(torch.tensor(p)).sample((n, 1))\n",
    "    zs = torch.randn(n, d)\n",
    "    xs = zs + scale * (2*ys-1)\n",
    "    return xs.float(), ys"
   ]
  },
  {
   "cell_type": "code",
   "execution_count": 2,
   "metadata": {},
   "outputs": [],
   "source": [
    "def chi_sq_dist(x, y):\n",
    "    return ((x-y)/x).abs().sum()"
   ]
  },
  {
   "cell_type": "code",
   "execution_count": 4,
   "metadata": {},
   "outputs": [],
   "source": [
    "def train(model, x, y, classWeights, epochs = 1000):\n",
    "    optimizer = torch.optim.Adam(model.parameters(), lr=0.001)\n",
    "    for i in tqdm(range(epochs)):\n",
    "        optimizer.zero_grad()\n",
    "        probPreds = model(x)\n",
    "        loss = F.binary_cross_entropy(probPreds, y, weight=classWeights[y.long()])\n",
    "        loss.backward()\n",
    "        optimizer.step()\n",
    "    return model"
   ]
  },
  {
   "cell_type": "code",
   "execution_count": 12,
   "metadata": {},
   "outputs": [],
   "source": [
    "def class_conditional_prob(confusion):\n",
    "    return confusion / confusion.sum(0, keepdim=True)\n",
    "\n",
    "def source_target_dist(eps):\n",
    "    # ccp1 = class_conditional_prob(c1)\n",
    "    # ccp2 = class_conditional_prob(c2)\n",
    "    # return max(chi_sq_dist(ccp1[:, 0], ccp2[:, 0]), chi_sq_dist(ccp1[:, 1], ccp2[:, 1]))\n",
    "    return eps.abs().sum(dim = 0).max()"
   ]
  },
  {
   "cell_type": "code",
   "execution_count": 32,
   "metadata": {},
   "outputs": [],
   "source": [
    "def cdf(mu, sigma, x):\n",
    "    return 0.5 * (1 + torch.erf((x - mu) / (sigma * np.sqrt(2))))"
   ]
  },
  {
   "cell_type": "code",
   "execution_count": 50,
   "metadata": {},
   "outputs": [],
   "source": [
    "ps = .5\n",
    "ms = 1.\n",
    "ss = 1.0\n",
    "\n",
    "mus = torch.tensor([-ms, ms])\n",
    "sigmas = torch.tensor([ss, ss])\n",
    "\n",
    "pt = .8\n",
    "mt = .7\n",
    "st = 1.0\n",
    "\n",
    "mut = torch.tensor([-mt, mt])\n",
    "sigmat = torch.tensor([st, st])"
   ]
  },
  {
   "cell_type": "code",
   "execution_count": 57,
   "metadata": {},
   "outputs": [],
   "source": [
    "# confusion matrix using the cdf\n",
    "\n",
    "ccps = torch.zeros(2, 2)\n",
    "ccps[0, 0] = cdf(mus[0], sigmas[0], 0.0)\n",
    "ccps[0, 1] = cdf(mus[1], sigmas[1], 0.0)\n",
    "ccps[1, 0] = 1 - ccps[0, 0]\n",
    "ccps[1, 1] = 1 - ccps[0, 1]\n",
    "\n",
    "cs = torch.zeros(2, 2)\n",
    "cs[:, 0] = ccps[:, 0] * ps\n",
    "cs[:, 1] = ccps[:, 1] * (1 - ps)\n",
    "\n",
    "\n",
    "ccpt = torch.zeros(2, 2)\n",
    "ccpt[0, 0] = cdf(mut[0], sigmat[0], 0.0)\n",
    "ccpt[0, 1] = cdf(mut[1], sigmat[1], 0.0)\n",
    "ccpt[1, 0] = 1 - ccpt[0, 0]\n",
    "ccpt[1, 1] = 1 - ccpt[0, 1]\n",
    "\n",
    "eps = ccpt - ccps\n",
    "\n",
    "ct = torch.zeros(2, 2)\n",
    "ct[:, 0] = ccpt[:, 0] * pt\n",
    "ct[:, 1] = ccpt[:, 1] * (1 - pt)"
   ]
  },
  {
   "cell_type": "code",
   "execution_count": 58,
   "metadata": {},
   "outputs": [],
   "source": [
    "muPred = torch.zeros(2)\n",
    "muPred[0] = cdf(mut[0], sigmat[0], 0.0) * (1-pt) + cdf(mut[1], sigmat[1], 0.0) * pt\n",
    "muPred[1] = 1 - muPred[0]"
   ]
  },
  {
   "cell_type": "code",
   "execution_count": 59,
   "metadata": {},
   "outputs": [],
   "source": [
    "muTrue = torch.zeros(2)\n",
    "muTrue[0] = 1 - pt\n",
    "muTrue[1] = pt"
   ]
  },
  {
   "cell_type": "code",
   "execution_count": 60,
   "metadata": {},
   "outputs": [],
   "source": [
    "lambdaMin = torch.linalg.eig(cs)[0].abs().min()\n",
    "cInv = torch.inverse(cs)\n",
    "wPred = cInv @ muPred"
   ]
  },
  {
   "cell_type": "code",
   "execution_count": 61,
   "metadata": {},
   "outputs": [],
   "source": [
    "wTrue = torch.zeros(2)\n",
    "wTrue[0] = (1-pt) / (1-ps)\n",
    "wTrue[1] = pt / ps"
   ]
  },
  {
   "cell_type": "code",
   "execution_count": 70,
   "metadata": {},
   "outputs": [
    {
     "data": {
      "text/plain": [
       "tensor(0.2071)"
      ]
     },
     "execution_count": 70,
     "metadata": {},
     "output_type": "execute_result"
    }
   ],
   "source": [
    "trueDist = torch.norm(wTrue - wPred)\n",
    "trueDist"
   ]
  },
  {
   "cell_type": "code",
   "execution_count": 65,
   "metadata": {},
   "outputs": [
    {
     "data": {
      "text/plain": [
       "tensor(0.5692)"
      ]
     },
     "execution_count": 65,
     "metadata": {},
     "output_type": "execute_result"
    }
   ],
   "source": [
    "ourBound21 = np.sqrt(2.)/lambdaMin * source_target_dist(eps) * torch.norm(muTrue)\n",
    "ourBound21"
   ]
  },
  {
   "cell_type": "code",
   "execution_count": 66,
   "metadata": {},
   "outputs": [
    {
     "data": {
      "text/plain": [
       "tensor(2.7487)"
      ]
     },
     "execution_count": 66,
     "metadata": {},
     "output_type": "execute_result"
    }
   ],
   "source": [
    "ourBound21/trueDist"
   ]
  },
  {
   "cell_type": "code",
   "execution_count": null,
   "metadata": {},
   "outputs": [],
   "source": []
  },
  {
   "cell_type": "code",
   "execution_count": 67,
   "metadata": {},
   "outputs": [
    {
     "data": {
      "text/plain": [
       "tensor(0.4025)"
      ]
     },
     "execution_count": 67,
     "metadata": {},
     "output_type": "execute_result"
    }
   ],
   "source": [
    "eps = ccpt - ccps\n",
    "lambdaMax = torch.linalg.eig(eps)[0].abs().max()\n",
    "ourBound19 = lambdaMax / lambdaMin * torch.norm(muTrue)\n",
    "ourBound19"
   ]
  },
  {
   "cell_type": "code",
   "execution_count": 68,
   "metadata": {},
   "outputs": [
    {
     "data": {
      "text/plain": [
       "tensor(1.9436)"
      ]
     },
     "execution_count": 68,
     "metadata": {},
     "output_type": "execute_result"
    }
   ],
   "source": [
    "ourBound19/trueDist"
   ]
  },
  {
   "cell_type": "code",
   "execution_count": 69,
   "metadata": {},
   "outputs": [
    {
     "data": {
      "text/plain": [
       "tensor(0.2071)"
      ]
     },
     "execution_count": 69,
     "metadata": {},
     "output_type": "execute_result"
    }
   ],
   "source": [
    "ourBound17 = torch.norm(cInv @ eps @ muTrue)\n",
    "ourBound17"
   ]
  },
  {
   "cell_type": "code",
   "execution_count": 74,
   "metadata": {},
   "outputs": [],
   "source": [
    "def main(ps, ms, ss, pt, mt, st):\n",
    "    mus = torch.tensor([-ms, ms])\n",
    "    sigmas = torch.tensor([ss, ss])\n",
    "    mut = torch.tensor([-mt, mt])\n",
    "    sigmat = torch.tensor([st, st])\n",
    "\n",
    "    ccps = torch.zeros(2, 2)\n",
    "    ccps[0, 0] = cdf(mus[0], sigmas[0], 0.0)\n",
    "    ccps[0, 1] = cdf(mus[1], sigmas[1], 0.0)\n",
    "    ccps[1, 0] = 1 - ccps[0, 0]\n",
    "    ccps[1, 1] = 1 - ccps[0, 1]\n",
    "\n",
    "    cs = torch.zeros(2, 2)\n",
    "    cs[:, 0] = ccps[:, 0] * ps\n",
    "    cs[:, 1] = ccps[:, 1] * (1 - ps)\n",
    "\n",
    "\n",
    "    ccpt = torch.zeros(2, 2)\n",
    "    ccpt[0, 0] = cdf(mut[0], sigmat[0], 0.0)\n",
    "    ccpt[0, 1] = cdf(mut[1], sigmat[1], 0.0)\n",
    "    ccpt[1, 0] = 1 - ccpt[0, 0]\n",
    "    ccpt[1, 1] = 1 - ccpt[0, 1]\n",
    "\n",
    "    eps = ccpt - ccps\n",
    "\n",
    "    ct = torch.zeros(2, 2)\n",
    "    ct[:, 0] = ccpt[:, 0] * pt\n",
    "    ct[:, 1] = ccpt[:, 1] * (1 - pt)\n",
    "    \n",
    "    muPred = torch.zeros(2)\n",
    "    muPred[0] = cdf(mut[0], sigmat[0], 0.0) * (1-pt) + cdf(mut[1], sigmat[1], 0.0) * pt\n",
    "    muPred[1] = 1 - muPred[0]\n",
    "\n",
    "    muTrue = torch.zeros(2)\n",
    "    muTrue[0] = 1 - pt\n",
    "    muTrue[1] = pt\n",
    "\n",
    "    lambdaMin = torch.linalg.eig(cs)[0].abs().min()\n",
    "    cInv = torch.inverse(cs)\n",
    "    wPred = cInv @ muPred\n",
    "\n",
    "    wTrue = torch.zeros(2)\n",
    "    wTrue[0] = (1-pt) / (1-ps)\n",
    "    wTrue[1] = pt / ps\n",
    "    \n",
    "    eps = ccpt - ccps\n",
    "    \n",
    "    ourBound21 = np.sqrt(2.)/lambdaMin * source_target_dist(eps) * torch.norm(muTrue)\n",
    "    lambdaMax = torch.linalg.eig(eps)[0].abs().max()\n",
    "    ourBound19 = lambdaMax / lambdaMin * torch.norm(muTrue)\n",
    "\n",
    "    ourBound17 = torch.norm(cInv @ eps @ muTrue)\n",
    "\n",
    "    trueDist = torch.norm(wTrue - wPred)\n",
    "\n",
    "    return trueDist, ourBound21, ourBound19, ourBound17"
   ]
  },
  {
   "cell_type": "code",
   "execution_count": 75,
   "metadata": {},
   "outputs": [
    {
     "name": "stdout",
     "output_type": "stream",
     "text": [
      "tensor(0.2071) tensor(0.5692) tensor(0.4025) tensor(0.2071)\n"
     ]
    }
   ],
   "source": [
    "ps = .5\n",
    "ms = 1.\n",
    "ss = 1.0\n",
    "\n",
    "pt = .8\n",
    "mt = .7\n",
    "st = 1.0\n",
    "\n",
    "trueDist, ourBound21, ourBound19, ourBound17 = main(ps, ms, ss, pt, mt, st)\n",
    "print(trueDist, ourBound21, ourBound19, ourBound17)"
   ]
  },
  {
   "cell_type": "code",
   "execution_count": null,
   "metadata": {},
   "outputs": [],
   "source": []
  }
 ],
 "metadata": {
  "kernelspec": {
   "display_name": "base",
   "language": "python",
   "name": "python3"
  },
  "language_info": {
   "codemirror_mode": {
    "name": "ipython",
    "version": 3
   },
   "file_extension": ".py",
   "mimetype": "text/x-python",
   "name": "python",
   "nbconvert_exporter": "python",
   "pygments_lexer": "ipython3",
   "version": "3.9.12"
  },
  "orig_nbformat": 4,
  "vscode": {
   "interpreter": {
    "hash": "1fe8eaf950b0cf64c1b70de22759d9a144a2595c541b4003711edd1f96d908e5"
   }
  }
 },
 "nbformat": 4,
 "nbformat_minor": 2
}
