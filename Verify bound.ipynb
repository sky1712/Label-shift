{
 "cells": [
  {
   "cell_type": "code",
   "execution_count": 2,
   "metadata": {},
   "outputs": [],
   "source": [
    "import numpy as np\n",
    "import matplotlib.pyplot as plt\n",
    "import torch.nn as nn\n",
    "import torch\n",
    "import torch.nn.functional as F\n",
    "from tqdm import tqdm\n",
    "import copy\n",
    "import collections"
   ]
  },
  {
   "cell_type": "code",
   "execution_count": 3,
   "metadata": {},
   "outputs": [],
   "source": [
    "def gen_data(n, d, p, scale=1.0):\n",
    "    ys = torch.distributions.Bernoulli(torch.tensor(p)).sample((n, 1))\n",
    "    zs = torch.randn(n, d)\n",
    "    xs = zs + scale * (2*ys-1)\n",
    "    return xs.float(), ys"
   ]
  },
  {
   "cell_type": "code",
   "execution_count": 4,
   "metadata": {},
   "outputs": [],
   "source": [
    "def source_target_dist(eps):\n",
    "    return eps.abs().sum(dim = 0).max()"
   ]
  },
  {
   "cell_type": "code",
   "execution_count": 5,
   "metadata": {},
   "outputs": [],
   "source": [
    "def cdf(mu, sigma, x):\n",
    "    return 0.5 * (1 + torch.erf((x - mu) / (sigma * np.sqrt(2))))"
   ]
  },
  {
   "cell_type": "code",
   "execution_count": 6,
   "metadata": {},
   "outputs": [],
   "source": [
    "ps = .5\n",
    "ms = 1.\n",
    "ss = 1.0\n",
    "\n",
    "mus = torch.tensor([-ms, ms])\n",
    "sigmas = torch.tensor([ss, ss])\n",
    "\n",
    "pt = .8\n",
    "mt = 2.\n",
    "st = 1.0\n",
    "\n",
    "mut = torch.tensor([-mt, mt])\n",
    "sigmat = torch.tensor([st, st])"
   ]
  },
  {
   "cell_type": "code",
   "execution_count": 19,
   "metadata": {},
   "outputs": [],
   "source": [
    "ccps = torch.zeros(2, 2)\n",
    "ccps[0, 0] = cdf(mus[0], sigmas[0], 0.0)\n",
    "ccps[0, 1] = cdf(mus[1], sigmas[1], 0.0)\n",
    "ccps[1, 0] = 1 - ccps[0, 0]\n",
    "ccps[1, 1] = 1 - ccps[0, 1]\n",
    "\n",
    "cs = torch.zeros(2, 2)\n",
    "cs[:, 0] = ccps[:, 0] * (1 - ps)\n",
    "cs[:, 1] = ccps[:, 1] * ps\n",
    "\n",
    "\n",
    "ccpt = torch.zeros(2, 2)\n",
    "ccpt[0, 0] = cdf(mut[0], sigmat[0], 0.0)\n",
    "ccpt[0, 1] = cdf(mut[1], sigmat[1], 0.0)\n",
    "ccpt[1, 0] = 1 - ccpt[0, 0]\n",
    "ccpt[1, 1] = 1 - ccpt[0, 1]\n",
    "\n",
    "ct = torch.zeros(2, 2)\n",
    "ct[:, 0] = ccpt[:, 0] * (1 - pt)\n",
    "ct[:, 1] = ccpt[:, 1] * pt\n",
    "\n",
    "eps = ccpt - ccps"
   ]
  },
  {
   "cell_type": "code",
   "execution_count": 20,
   "metadata": {},
   "outputs": [],
   "source": [
    "muPred = torch.zeros(2)\n",
    "muPred[0] = cdf(mut[0], sigmat[0], 0.0) * (1-pt) + cdf(mut[1], sigmat[1], 0.0) * pt\n",
    "muPred[1] = 1 - muPred[0]"
   ]
  },
  {
   "cell_type": "code",
   "execution_count": 21,
   "metadata": {},
   "outputs": [],
   "source": [
    "muTrue = torch.zeros(2)\n",
    "muTrue[0] = 1 - pt\n",
    "muTrue[1] = pt"
   ]
  },
  {
   "cell_type": "code",
   "execution_count": 22,
   "metadata": {},
   "outputs": [],
   "source": [
    "lambdaMin = torch.linalg.eig(cs)[0].abs().min()\n",
    "cInv = torch.inverse(cs)\n",
    "wPred = cInv @ muPred"
   ]
  },
  {
   "cell_type": "code",
   "execution_count": 23,
   "metadata": {},
   "outputs": [],
   "source": [
    "wTrue = torch.zeros(2)\n",
    "wTrue[0] = (1-pt) / (1-ps)\n",
    "wTrue[1] = pt / ps"
   ]
  },
  {
   "cell_type": "code",
   "execution_count": 24,
   "metadata": {},
   "outputs": [
    {
     "data": {
      "text/plain": [
       "tensor(0.3378)"
      ]
     },
     "execution_count": 24,
     "metadata": {},
     "output_type": "execute_result"
    }
   ],
   "source": [
    "trueDist = torch.norm(wTrue - wPred)\n",
    "trueDist"
   ]
  },
  {
   "cell_type": "code",
   "execution_count": 25,
   "metadata": {},
   "outputs": [
    {
     "data": {
      "text/plain": [
       "tensor(0.9286)"
      ]
     },
     "execution_count": 25,
     "metadata": {},
     "output_type": "execute_result"
    }
   ],
   "source": [
    "ourBound21 = np.sqrt(2.)/lambdaMin * source_target_dist(eps) * torch.norm(muTrue)\n",
    "ourBound21"
   ]
  },
  {
   "cell_type": "code",
   "execution_count": 26,
   "metadata": {},
   "outputs": [
    {
     "data": {
      "text/plain": [
       "tensor(2.7487)"
      ]
     },
     "execution_count": 26,
     "metadata": {},
     "output_type": "execute_result"
    }
   ],
   "source": [
    "ourBound21/trueDist"
   ]
  },
  {
   "cell_type": "code",
   "execution_count": null,
   "metadata": {},
   "outputs": [],
   "source": []
  },
  {
   "cell_type": "code",
   "execution_count": 27,
   "metadata": {},
   "outputs": [
    {
     "data": {
      "text/plain": [
       "tensor(0.6566)"
      ]
     },
     "execution_count": 27,
     "metadata": {},
     "output_type": "execute_result"
    }
   ],
   "source": [
    "eps = ccpt - ccps\n",
    "lambdaMax = torch.linalg.eig(eps)[0].abs().max()\n",
    "ourBound19 = lambdaMax / lambdaMin * torch.norm(muTrue)\n",
    "ourBound19"
   ]
  },
  {
   "cell_type": "code",
   "execution_count": 28,
   "metadata": {},
   "outputs": [
    {
     "data": {
      "text/plain": [
       "tensor(1.9437)"
      ]
     },
     "execution_count": 28,
     "metadata": {},
     "output_type": "execute_result"
    }
   ],
   "source": [
    "ourBound19/trueDist"
   ]
  },
  {
   "cell_type": "code",
   "execution_count": 29,
   "metadata": {},
   "outputs": [
    {
     "data": {
      "text/plain": [
       "tensor(0.3378)"
      ]
     },
     "execution_count": 29,
     "metadata": {},
     "output_type": "execute_result"
    }
   ],
   "source": [
    "ourBound17 = torch.norm(cInv @ eps @ muTrue)\n",
    "ourBound17"
   ]
  },
  {
   "cell_type": "code",
   "execution_count": 54,
   "metadata": {},
   "outputs": [],
   "source": [
    "def main(ps, ms, ss, pt, mt, st):\n",
    "    mus = torch.tensor([-ms, ms])\n",
    "    sigmas = torch.tensor([ss, ss])\n",
    "    mut = torch.tensor([-mt, mt])\n",
    "    sigmat = torch.tensor([st, st])\n",
    "\n",
    "    ccps = torch.zeros(2, 2)\n",
    "    ccps[0, 0] = cdf(mus[0], sigmas[0], 0.0)\n",
    "    ccps[0, 1] = cdf(mus[1], sigmas[1], 0.0)\n",
    "    ccps[1, 0] = 1 - ccps[0, 0]\n",
    "    ccps[1, 1] = 1 - ccps[0, 1]\n",
    "\n",
    "    cs = torch.zeros(2, 2)\n",
    "    cs[:, 0] = ccps[:, 0] * (1 - ps)\n",
    "    cs[:, 1] = ccps[:, 1] * ps\n",
    "\n",
    "\n",
    "    ccpt = torch.zeros(2, 2)\n",
    "    ccpt[0, 0] = cdf(mut[0], sigmat[0], 0.0)\n",
    "    ccpt[0, 1] = cdf(mut[1], sigmat[1], 0.0)\n",
    "    ccpt[1, 0] = 1 - ccpt[0, 0]\n",
    "    ccpt[1, 1] = 1 - ccpt[0, 1]\n",
    "\n",
    "    ct = torch.zeros(2, 2)\n",
    "    ct[:, 0] = ccpt[:, 0] * (1 - pt)\n",
    "    ct[:, 1] = ccpt[:, 1] * pt\n",
    "\n",
    "    eps = ccpt - ccps\n",
    "\n",
    "    ct = torch.zeros(2, 2)\n",
    "    ct[:, 0] = ccpt[:, 0] * (1 - pt)\n",
    "    ct[:, 1] = ccpt[:, 1] * pt\n",
    "    \n",
    "    muPred = torch.zeros(2)\n",
    "    muPred[0] = cdf(mut[0], sigmat[0], 0.0) * (1-pt) + cdf(mut[1], sigmat[1], 0.0) * pt\n",
    "    muPred[1] = 1 - muPred[0]\n",
    "\n",
    "    muTrue = torch.zeros(2)\n",
    "    muTrue[0] = 1 - pt\n",
    "    muTrue[1] = pt\n",
    "\n",
    "    lambdaMin = torch.linalg.eig(cs)[0].abs().min()\n",
    "    cInv = torch.inverse(cs)\n",
    "    wPred = cInv @ muPred\n",
    "\n",
    "    wTrue = torch.zeros(2)\n",
    "    wTrue[0] = (1-pt) / (1-ps)\n",
    "    wTrue[1] = pt / ps\n",
    "    \n",
    "    eps = ccpt - ccps\n",
    "    \n",
    "    ourBound21 = np.sqrt(2.)/lambdaMin * source_target_dist(eps) * torch.norm(muTrue)\n",
    "    # lambdaMax = torch.linalg.eig(eps)[0].abs().max()\n",
    "    # ourBound19 = lambdaMax / lambdaMin * torch.norm(muTrue)\n",
    "\n",
    "    # ourBound18 = 1 / lambdaMin * torch.norm(eps @ muTrue)\n",
    "\n",
    "    # ourBound17 = torch.norm(cInv @ eps @ muTrue)\n",
    "\n",
    "    trueDist = torch.norm(wTrue - wPred)\n",
    "\n",
    "    return trueDist, ourBound21"
   ]
  },
  {
   "cell_type": "code",
   "execution_count": 60,
   "metadata": {},
   "outputs": [
    {
     "name": "stdout",
     "output_type": "stream",
     "text": [
      "0.5000001 0.7 1.0 tensor(2.9802e-07) tensor(0.4881) tensor(1637854.3750)\n",
      "0.500001 0.7 1.0 tensor(8.8609e-07) tensor(0.4881) tensor(550870.0625)\n",
      "0.5001 0.7 1.0 tensor(6.9289e-05) tensor(0.4881) tensor(7044.6357)\n",
      "0.51 0.7 1.0 tensor(0.0069) tensor(0.4882) tensor(70.7228)\n",
      "0.6 0.7 1.0 tensor(0.0690) tensor(0.4978) tensor(7.2111)\n",
      "0.7 0.7 1.0 tensor(0.1381) tensor(0.5257) tensor(3.8079)\n",
      "0.8 0.7 1.0 tensor(0.2071) tensor(0.5692) tensor(2.7487)\n",
      "0.9 0.7 1.0 tensor(0.2761) tensor(0.6251) tensor(2.2638)\n",
      "0.99 0.7 1.0 tensor(0.3382) tensor(0.6834) tensor(2.0205)\n",
      "0.999 0.7 1.0 tensor(0.3445) tensor(0.6896) tensor(2.0020)\n",
      "0.9999 0.7 1.0 tensor(0.3451) tensor(0.6902) tensor(2.0002)\n",
      "0.99999 0.7 1.0 tensor(0.3451) tensor(0.6903) tensor(2.0000)\n",
      "0.999999 0.7 1.0 tensor(0.3452) tensor(0.6903) tensor(2.0000)\n",
      "0.9999999 0.7 1.0 tensor(0.3452) tensor(0.6903) tensor(2.0000)\n",
      "0.99999999 0.7 1.0 tensor(0.3452) tensor(0.6903) tensor(2.0000)\n",
      "0.999999999 0.7 1.0 tensor(0.3452) tensor(0.6903) tensor(2.0000)\n"
     ]
    }
   ],
   "source": [
    "ps = .5\n",
    "ms = 1.\n",
    "ss = 1.0\n",
    "\n",
    "# pt = .8\n",
    "mt = .7\n",
    "st = 1.0\n",
    "\n",
    "for pt in [.5000001, .500001, .5001, .51, .6, .7, .8, .9, .99, .999, .9999, .99999, .999999, .9999999, .99999999, .999999999]:\n",
    "    trueDist, ourBound21 = main(ps, ms, ss, pt, mt, st)\n",
    "    print(pt, mt, st, trueDist, ourBound21, ourBound21/trueDist)"
   ]
  },
  {
   "cell_type": "code",
   "execution_count": null,
   "metadata": {},
   "outputs": [],
   "source": []
  },
  {
   "cell_type": "code",
   "execution_count": null,
   "metadata": {},
   "outputs": [],
   "source": []
  },
  {
   "cell_type": "code",
   "execution_count": 11,
   "metadata": {},
   "outputs": [],
   "source": [
    "def main(ps, ms, ss, pt, mt, st):\n",
    "    mus = torch.tensor([-ms, ms])\n",
    "    sigmas = torch.tensor([ss, ss])\n",
    "    mut = torch.tensor([-1, mt])\n",
    "    sigmat = torch.tensor([st, st])\n",
    "\n",
    "    ccps = torch.zeros(2, 2)\n",
    "    ccps[0, 0] = cdf(mus[0], sigmas[0], 0.0)\n",
    "    ccps[0, 1] = cdf(mus[1], sigmas[1], 0.0)\n",
    "    ccps[1, 0] = 1 - ccps[0, 0]\n",
    "    ccps[1, 1] = 1 - ccps[0, 1]\n",
    "\n",
    "    cs = torch.zeros(2, 2)\n",
    "    cs[:, 0] = ccps[:, 0] * (1 - ps)\n",
    "    cs[:, 1] = ccps[:, 1] * ps\n",
    "\n",
    "\n",
    "    ccpt = torch.zeros(2, 2)\n",
    "    ccpt[0, 0] = .75 * cdf(mut[0], sigmat[0], 0.0) + .25 * cdf(mut[1], sigmat[1], 0.0)\n",
    "    ccpt[0, 1] = .25 * cdf(mut[0], sigmat[0], 0.0) + .75 * cdf(mut[1], sigmat[1], 0.0)\n",
    "    ccpt[1, 0] = 1 - ccpt[0, 0]\n",
    "    ccpt[1, 1] = 1 - ccpt[0, 1]\n",
    "\n",
    "    ct = torch.zeros(2, 2)\n",
    "    ct[:, 0] = ccpt[:, 0] * (1 - pt)\n",
    "    ct[:, 1] = ccpt[:, 1] * pt\n",
    "\n",
    "    eps = ccpt - ccps\n",
    "\n",
    "    ct = torch.zeros(2, 2)\n",
    "    ct[:, 0] = ccpt[:, 0] * (1 - pt)\n",
    "    ct[:, 1] = ccpt[:, 1] * pt\n",
    "    \n",
    "    muPred = torch.zeros(2)\n",
    "    muPred[0] = (1-pt) * (.75 * cdf(mut[0], sigmat[0], 0.0) + .25 * cdf(mut[1], sigmat[1], 0.0)) + pt * (.25 * cdf(mut[0], sigmat[0], 0.0) + .75 * cdf(mut[1], sigmat[1], 0.0))\n",
    "    muPred[1] = 1 - muPred[0]\n",
    "\n",
    "    muTrue = torch.zeros(2)\n",
    "    muTrue[0] = 1 - pt\n",
    "    muTrue[1] = pt\n",
    "\n",
    "    lambdaMin = torch.linalg.eig(cs)[0].abs().min()\n",
    "    cInv = torch.inverse(cs)\n",
    "    wPred = cInv @ muPred\n",
    "\n",
    "    wTrue = torch.zeros(2)\n",
    "    wTrue[0] = (1-pt) / (1-ps)\n",
    "    wTrue[1] = pt / ps\n",
    "    \n",
    "    eps = ccpt - ccps\n",
    "    \n",
    "    ourBound21 = np.sqrt(2.)/lambdaMin * source_target_dist(eps) * torch.norm(muTrue)\n",
    "\n",
    "    trueDist = torch.norm(wTrue - wPred)\n",
    "\n",
    "    return trueDist, ourBound21"
   ]
  },
  {
   "cell_type": "code",
   "execution_count": 13,
   "metadata": {},
   "outputs": [
    {
     "name": "stdout",
     "output_type": "stream",
     "text": [
      "0.5000001 1.0 2.0 tensor(0.) tensor(1.0000) tensor(inf)\n",
      "0.500001 1.0 2.0 tensor(1.1450e-06) tensor(1.0000) tensor(873387.1250)\n",
      "0.5001 1.0 2.0 tensor(0.0001) tensor(1.0000) tensor(7088.9077)\n",
      "0.51 1.0 2.0 tensor(0.0141) tensor(1.0002) tensor(70.7255)\n",
      "0.6 1.0 2.0 tensor(0.1414) tensor(1.0198) tensor(7.2111)\n",
      "0.7 1.0 2.0 tensor(0.2828) tensor(1.0770) tensor(3.8079)\n",
      "0.8 1.0 2.0 tensor(0.4243) tensor(1.1662) tensor(2.7487)\n",
      "0.9 1.0 2.0 tensor(0.5657) tensor(1.2806) tensor(2.2638)\n",
      "0.99 1.0 2.0 tensor(0.6930) tensor(1.4001) tensor(2.0205)\n",
      "0.999 1.0 2.0 tensor(0.7057) tensor(1.4128) tensor(2.0020)\n",
      "0.9999 1.0 2.0 tensor(0.7070) tensor(1.4141) tensor(2.0002)\n",
      "0.99999 1.0 2.0 tensor(0.7071) tensor(1.4142) tensor(2.0000)\n",
      "0.999999 1.0 2.0 tensor(0.7071) tensor(1.4142) tensor(2.0000)\n",
      "0.9999999 1.0 2.0 tensor(0.7071) tensor(1.4142) tensor(2.0000)\n",
      "0.99999999 1.0 2.0 tensor(0.7071) tensor(1.4142) tensor(2.0000)\n",
      "0.999999999 1.0 2.0 tensor(0.7071) tensor(1.4142) tensor(2.0000)\n"
     ]
    }
   ],
   "source": [
    "ps = .5\n",
    "ms = 1.\n",
    "ss = 2.0\n",
    "\n",
    "pt = .5\n",
    "mt = 1.\n",
    "st = 2.0\n",
    "\n",
    "arr = []\n",
    "for pt in [.5000001, .500001, .5001, .51, .6, .7, .8, .9, .99, .999, .9999, .99999, .999999, .9999999, .99999999, .999999999]:\n",
    "    trueDist, ourBound21 = main(ps, ms, ss, pt, mt, st)\n",
    "    arr.append([pt, mt, st, trueDist, ourBound21, ourBound21/trueDist])\n",
    "    print(pt, mt, st, trueDist, ourBound21, ourBound21/trueDist)"
   ]
  },
  {
   "cell_type": "code",
   "execution_count": 50,
   "metadata": {},
   "outputs": [
    {
     "data": {
      "text/plain": [
       "[<matplotlib.lines.Line2D at 0x7f96517ddb20>]"
      ]
     },
     "execution_count": 50,
     "metadata": {},
     "output_type": "execute_result"
    },
    {
     "data": {
      "image/png": "[encoded data removed]",
      "text/plain": [
       "<Figure size 432x288 with 1 Axes>"
      ]
     },
     "metadata": {
      "needs_background": "light"
     },
     "output_type": "display_data"
    }
   ],
   "source": [
    "plt.plot([x[0] for x in arr[3:]], [x[5] for x in arr[3:]])"
   ]
  },
  {
   "cell_type": "code",
   "execution_count": null,
   "metadata": {},
   "outputs": [],
   "source": []
  }
 ],
 "metadata": {
  "kernelspec": {
   "display_name": "base",
   "language": "python",
   "name": "python3"
  },
  "language_info": {
   "codemirror_mode": {
    "name": "ipython",
    "version": 3
   },
   "file_extension": ".py",
   "mimetype": "text/x-python",
   "name": "python",
   "nbconvert_exporter": "python",
   "pygments_lexer": "ipython3",
   "version": "3.9.12"
  },
  "orig_nbformat": 4,
  "vscode": {
   "interpreter": {
    "hash": "1fe8eaf950b0cf64c1b70de22759d9a144a2595c541b4003711edd1f96d908e5"
   }
  }
 },
 "nbformat": 4,
 "nbformat_minor": 2
}
