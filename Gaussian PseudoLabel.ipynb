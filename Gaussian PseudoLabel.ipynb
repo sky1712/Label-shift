{
  "cells": [
    {
      "cell_type": "code",
      "execution_count": 2,
      "metadata": {
        "id": "7Akr4lXL2VEI"
      },
      "outputs": [],
      "source": [
        "import torch\n",
        "import torch.nn as nn\n",
        "import torch.nn.functional as F\n",
        "import matplotlib.pyplot as plt\n",
        "import numpy as np\n",
        "from tqdm import tqdm\n",
        "import collections\n",
        "import copy"
      ]
    },
    {
      "cell_type": "code",
      "execution_count": 3,
      "metadata": {
        "id": "M933PvLGQOId"
      },
      "outputs": [],
      "source": [
        "def plot_decision_boundary2(model, title):\n",
        "    # given a linear model plot the decision boundary using the weights of the linear layer\n",
        "    w = model[0].weight.data.numpy()\n",
        "    b = model[0].bias.data.numpy()\n",
        "    x = np.linspace(-3, 3, 100)\n",
        "    y = -w[0][0]/w[0][1] * x - b[0]/w[0][1]\n",
        "    plt.plot(x, y, label=title)\n",
        "    plt.legend()\n",
        "\n",
        "def plot_opt_decision_boundary(w, gamma, p):\n",
        "    # given a linear model plot the decision boundary using the weights of the linear layer\n",
        "    x = np.linspace(-3, 3, 100)\n",
        "    y = -w[0]/w[1] * x - np.log(p/(1-p))/w[1]\n",
        "    plt.plot(x, y, label=\"Optimal Decision Boundary\")\n",
        "    plt.legend()"
      ]
    },
    {
      "cell_type": "code",
      "execution_count": 4,
      "metadata": {
        "id": "oBtE_48a2VEJ"
      },
      "outputs": [],
      "source": [
        "def gen_data(n, d, w, gamma, p):\n",
        "    ys = torch.distributions.Bernoulli(torch.tensor(p)).sample((n, 1))\n",
        "    zs = torch.randn(n, d)\n",
        "    xs = zs + gamma * (2*ys-1) * w\n",
        "    return xs.float(), ys"
      ]
    },
    {
      "cell_type": "code",
      "execution_count": 5,
      "metadata": {
        "id": "b8SGHiOX2VEJ"
      },
      "outputs": [],
      "source": [
        "def bayes_accuracy(xs, ys, w, gamma, p):\n",
        "    temp = 1/(1+torch.exp(2*gamma*torch.matmul(xs, w)))\n",
        "    preds = temp <= p\n",
        "    return (preds == ys[:,0]).float().mean()"
      ]
    },
    {
      "cell_type": "code",
      "execution_count": 15,
      "metadata": {},
      "outputs": [],
      "source": [
        "def train_on_source(xTrain, yTrain, xTest, yTest):\n",
        "    '''\n",
        "    Trains a logistic regression model on the source dataset and returns the model.\n",
        "    '''\n",
        "    model = nn.Sequential(nn.Linear(xTrain.shape[1], 1))\n",
        "    optimizer = torch.optim.SGD(model.parameters(), lr=0.001)\n",
        "    for i in tqdm(range(10000)):\n",
        "        optimizer.zero_grad()\n",
        "        outputs = torch.sigmoid(model(xTrain))\n",
        "        loss = F.binary_cross_entropy(outputs, yTrain)\n",
        "        loss.backward()\n",
        "        optimizer.step()\n",
        "    return model\n",
        "\n",
        "def adapt(model, xTarget, epochs = 100000):\n",
        "    '''\n",
        "    Adapts the model to the target dataset and returns the adapted model.\n",
        "    Current code uses Adam since the SGD was very slow.\n",
        "    '''\n",
        "    optimizer = torch.optim.Adam(model.parameters(), lr=0.00001)\n",
        "    for i in tqdm(range(epochs)):\n",
        "        optimizer.zero_grad()\n",
        "        outputs = model(xTarget)\n",
        "\n",
        "        probsPred = torch.sigmoid(outputs)\n",
        "        labelPreds = (probsPred > 0.5).float().detach()\n",
        "        loss = F.binary_cross_entropy(probsPred, labelPreds)\n",
        "\n",
        "        # labelPreds = (outputs > 0).float().detach()\n",
        "        # loss = torch.mean(torch.clamp(1 - outputs.t() * labelPreds, min=0))\n",
        "        # loss = torch.mean(torch.exp(-outputs.t() * labelPreds))\n",
        "        loss.backward()\n",
        "        optimizer.step()\n",
        "    return model"
      ]
    },
    {
      "cell_type": "code",
      "execution_count": 12,
      "metadata": {},
      "outputs": [],
      "source": [
        "def train_and_adapt(xSource, ySource, xTarget, lamb = 1, epochs = 100000):\n",
        "    '''\n",
        "    Trains a model on the source dataset and adapts it to the target dataset.\n",
        "    Returns the adapted model.\n",
        "    '''\n",
        "    model = nn.Sequential(nn.Linear(xSource.shape[1], 1))\n",
        "    optimizer = torch.optim.Adam(model.parameters(), lr=0.00001)\n",
        "    for i in tqdm(range(epochs)):\n",
        "        optimizer.zero_grad()\n",
        "        outputs = torch.sigmoid(model(xSource))\n",
        "        classificationLoss = F.binary_cross_entropy(outputs, ySource)\n",
        "        probPreds = torch.sigmoid(model(xTarget))\n",
        "        labelPreds = (probPreds > 0.5).float().detach()\n",
        "        selfTrainingLoss = F.binary_cross_entropy(probPreds, labelPreds)\n",
        "        loss = classificationLoss + lamb * selfTrainingLoss\n",
        "        loss.backward()\n",
        "        optimizer.step()\n",
        "    return model"
      ]
    },
    {
      "cell_type": "code",
      "execution_count": 9,
      "metadata": {
        "id": "6owaD2eC2VEK"
      },
      "outputs": [],
      "source": [
        "def evaluate(model, x, y):\n",
        "    return((model(x) > 0) == y).float().mean().item()"
      ]
    },
    {
      "cell_type": "code",
      "execution_count": 7,
      "metadata": {
        "id": "1R6w5nMa2VEK"
      },
      "outputs": [],
      "source": [
        "n = 1000\n",
        "d = 2\n",
        "w = torch.ones(d)/np.sqrt(d)\n",
        "gamma = 0.3\n",
        "pSource = 0.5\n",
        "pTarget = 0.9"
      ]
    },
    {
      "cell_type": "code",
      "execution_count": 18,
      "metadata": {
        "id": "CUjjpBFB2VEL"
      },
      "outputs": [],
      "source": [
        "xSourceTrain, ySourceTrain = gen_data(n, d, w, gamma, pSource)\n",
        "xSourceTest, ySourceTest = gen_data(n, d, w, gamma, pSource)\n",
        "\n",
        "xTargetTrain, yTargetTrain = gen_data(n, d, w, gamma, pTarget)\n",
        "xTargetTest, yTargetTest = gen_data(n, d, w, gamma, pTarget)"
      ]
    },
    {
      "cell_type": "code",
      "execution_count": 19,
      "metadata": {
        "colab": {
          "base_uri": "https://localhost:8080/"
        },
        "id": "xWWGr9mN2VEL",
        "outputId": "666bec6c-2829-4ebf-9b9e-81da9a5e0250"
      },
      "outputs": [
        {
          "name": "stdout",
          "output_type": "stream",
          "text": [
            "Bayes accuracy on source is: tensor(0.6570)\n",
            "Bayes accuracy on target is: tensor(0.8940)\n"
          ]
        }
      ],
      "source": [
        "bAccuSource = bayes_accuracy(xSourceTest, ySourceTest, w, gamma, pSource)\n",
        "bAccuTarget = bayes_accuracy(xTargetTest, yTargetTest, w, gamma, pTarget)\n",
        "print(\"Bayes accuracy on source is:\", bAccuSource)\n",
        "print(\"Bayes accuracy on target is:\", bAccuTarget)"
      ]
    },
    {
      "cell_type": "code",
      "execution_count": 24,
      "metadata": {
        "colab": {
          "base_uri": "https://localhost:8080/"
        },
        "id": "dwEOBDYs2VEL",
        "outputId": "e0bc86ac-3750-478b-97f2-817ee9b4bb10"
      },
      "outputs": [
        {
          "name": "stderr",
          "output_type": "stream",
          "text": [
            "100%|██████████| 100000/100000 [00:35<00:00, 2790.79it/s]"
          ]
        },
        {
          "name": "stdout",
          "output_type": "stream",
          "text": [
            "Accuracy on source is: 0.6449999809265137\n",
            "Accuracy on target is: 0.6809999942779541\n"
          ]
        },
        {
          "name": "stderr",
          "output_type": "stream",
          "text": [
            "\n"
          ]
        }
      ],
      "source": [
        "model = train_and_adapt(xSourceTrain, ySourceTrain, xTargetTrain)\n",
        "\n",
        "print(\"Accuracy on source is:\", evaluate(model, xSourceTest, ySourceTest))\n",
        "print(\"Accuracy on target is:\", evaluate(model, xTargetTest, yTargetTest))"
      ]
    },
    {
      "cell_type": "code",
      "execution_count": 20,
      "metadata": {},
      "outputs": [
        {
          "name": "stderr",
          "output_type": "stream",
          "text": [
            "100%|██████████| 10000/10000 [00:01<00:00, 6424.53it/s]\n"
          ]
        },
        {
          "name": "stdout",
          "output_type": "stream",
          "text": [
            "Accuracy on source is: 0.6480000019073486\n",
            "Accuracy on target is: 0.6209999918937683\n"
          ]
        },
        {
          "name": "stderr",
          "output_type": "stream",
          "text": [
            "100%|██████████| 100000/100000 [00:23<00:00, 4194.86it/s]"
          ]
        },
        {
          "name": "stdout",
          "output_type": "stream",
          "text": [
            "Accuracy on source is: 0.6299999952316284\n",
            "Accuracy on target is: 0.7570000290870667\n"
          ]
        },
        {
          "name": "stderr",
          "output_type": "stream",
          "text": [
            "\n"
          ]
        }
      ],
      "source": [
        "model = train_on_source(xSourceTrain, ySourceTrain, xSourceTest, ySourceTest)\n",
        "print(\"Accuracy on source is:\", evaluate(model, xSourceTest, ySourceTest))\n",
        "print(\"Accuracy on target is:\", evaluate(model, xTargetTest, yTargetTest))\n",
        "\n",
        "model = adapt(model, xTargetTrain)\n",
        "print(\"Accuracy on source is:\", evaluate(model, xSourceTest, ySourceTest))\n",
        "print(\"Accuracy on target is:\", evaluate(model, xTargetTest, yTargetTest))"
      ]
    },
    {
      "cell_type": "code",
      "execution_count": 29,
      "metadata": {},
      "outputs": [
        {
          "name": "stderr",
          "output_type": "stream",
          "text": [
            "100%|██████████| 100000/100000 [00:36<00:00, 2731.42it/s]\n",
            "100%|██████████| 10000/10000 [00:01<00:00, 6542.34it/s]\n",
            "100%|██████████| 100000/100000 [00:23<00:00, 4218.45it/s]\n",
            "100%|██████████| 100000/100000 [00:35<00:00, 2812.22it/s]\n",
            "100%|██████████| 10000/10000 [00:01<00:00, 6545.58it/s]\n",
            "100%|██████████| 100000/100000 [00:23<00:00, 4273.37it/s]\n",
            "100%|██████████| 100000/100000 [00:38<00:00, 2619.53it/s]\n",
            "100%|██████████| 10000/10000 [00:01<00:00, 6302.49it/s]\n",
            "100%|██████████| 100000/100000 [00:24<00:00, 4050.13it/s]\n",
            "100%|██████████| 100000/100000 [00:40<00:00, 2499.82it/s]\n",
            "100%|██████████| 10000/10000 [00:01<00:00, 5954.09it/s]\n",
            "100%|██████████| 100000/100000 [00:30<00:00, 3304.44it/s]\n",
            "100%|██████████| 100000/100000 [00:39<00:00, 2516.21it/s]\n",
            "100%|██████████| 10000/10000 [00:01<00:00, 6005.33it/s]\n",
            "100%|██████████| 100000/100000 [00:25<00:00, 3900.78it/s]\n",
            "100%|██████████| 100000/100000 [00:39<00:00, 2540.35it/s]\n",
            "100%|██████████| 10000/10000 [00:01<00:00, 5802.72it/s]\n",
            "100%|██████████| 100000/100000 [00:26<00:00, 3784.51it/s]\n",
            "100%|██████████| 100000/100000 [00:35<00:00, 2835.89it/s]\n",
            "100%|██████████| 10000/10000 [00:01<00:00, 5928.54it/s]\n",
            "100%|██████████| 100000/100000 [00:24<00:00, 4040.44it/s]\n",
            "100%|██████████| 100000/100000 [00:35<00:00, 2785.99it/s]\n",
            "100%|██████████| 10000/10000 [00:01<00:00, 6479.58it/s]\n",
            "100%|██████████| 100000/100000 [00:23<00:00, 4196.22it/s]\n",
            "100%|██████████| 100000/100000 [00:35<00:00, 2783.58it/s]\n",
            "100%|██████████| 10000/10000 [00:01<00:00, 6516.40it/s]\n",
            "100%|██████████| 100000/100000 [00:23<00:00, 4223.69it/s]\n",
            "100%|██████████| 100000/100000 [00:35<00:00, 2830.23it/s]\n",
            "100%|██████████| 10000/10000 [00:01<00:00, 6589.68it/s]\n",
            "100%|██████████| 100000/100000 [00:25<00:00, 3919.10it/s]\n",
            "100%|██████████| 100000/100000 [00:37<00:00, 2636.48it/s]\n",
            "100%|██████████| 10000/10000 [00:01<00:00, 6550.57it/s]\n",
            "100%|██████████| 100000/100000 [00:24<00:00, 4126.00it/s]\n",
            "100%|██████████| 100000/100000 [00:37<00:00, 2661.99it/s]\n",
            "100%|██████████| 10000/10000 [00:01<00:00, 6517.27it/s]\n",
            "100%|██████████| 100000/100000 [00:23<00:00, 4275.14it/s]\n",
            "100%|██████████| 100000/100000 [00:35<00:00, 2848.07it/s]\n",
            "100%|██████████| 10000/10000 [00:01<00:00, 6625.62it/s]\n",
            "100%|██████████| 100000/100000 [00:23<00:00, 4240.60it/s]\n",
            "100%|██████████| 100000/100000 [00:36<00:00, 2777.52it/s]\n",
            "100%|██████████| 10000/10000 [00:01<00:00, 6501.84it/s]\n",
            "100%|██████████| 100000/100000 [00:23<00:00, 4183.13it/s]\n",
            "100%|██████████| 100000/100000 [00:37<00:00, 2686.84it/s]\n",
            "100%|██████████| 10000/10000 [00:01<00:00, 6481.75it/s]\n",
            "100%|██████████| 100000/100000 [00:23<00:00, 4284.82it/s]\n",
            "100%|██████████| 100000/100000 [00:34<00:00, 2859.69it/s]\n",
            "100%|██████████| 10000/10000 [00:01<00:00, 6622.93it/s]\n",
            "100%|██████████| 100000/100000 [00:23<00:00, 4305.05it/s]\n",
            "100%|██████████| 100000/100000 [00:35<00:00, 2828.07it/s]\n",
            "100%|██████████| 10000/10000 [00:01<00:00, 6470.02it/s]\n",
            "100%|██████████| 100000/100000 [00:23<00:00, 4246.29it/s]\n",
            "100%|██████████| 100000/100000 [00:36<00:00, 2754.44it/s]\n",
            "100%|██████████| 10000/10000 [00:01<00:00, 5986.98it/s]\n",
            "100%|██████████| 100000/100000 [00:25<00:00, 3945.61it/s]\n",
            "100%|██████████| 100000/100000 [00:38<00:00, 2612.34it/s]\n",
            "100%|██████████| 10000/10000 [00:01<00:00, 6118.42it/s]\n",
            "100%|██████████| 100000/100000 [00:24<00:00, 4017.43it/s]\n",
            "100%|██████████| 100000/100000 [00:41<00:00, 2418.26it/s]\n",
            "100%|██████████| 10000/10000 [00:01<00:00, 5109.05it/s]\n",
            "100%|██████████| 100000/100000 [00:27<00:00, 3581.38it/s]"
          ]
        },
        {
          "name": "stdout",
          "output_type": "stream",
          "text": [
            "Average accuracy of self-training is: 0.7418000012636184\n",
            "Average accuracy of pseudo-labeling is: 0.6539499938488007\n"
          ]
        },
        {
          "name": "stderr",
          "output_type": "stream",
          "text": [
            "\n"
          ]
        }
      ],
      "source": [
        "reps = 20\n",
        "selfTrainingAccus = []\n",
        "pseudoLabelAccus = []\n",
        "for i in range(reps):\n",
        "    xSourceTrain, ySourceTrain = gen_data(n, d, w, gamma, pSource)\n",
        "    xSourceTest, ySourceTest = gen_data(n, d, w, gamma, pSource)\n",
        "\n",
        "    xTargetTrain, yTargetTrain = gen_data(n, d, w, gamma, pTarget)\n",
        "    xTargetTest, yTargetTest = gen_data(n, d, w, gamma, pTarget)\n",
        "\n",
        "    model = train_and_adapt(xSourceTrain, ySourceTrain, xTargetTrain, lamb = 0.4)\n",
        "    pseudoLabelAccus.append(evaluate(model, xTargetTest, yTargetTest))\n",
        "\n",
        "    model = train_on_source(xSourceTrain, ySourceTrain, xSourceTest, ySourceTest)\n",
        "    model = adapt(model, xTargetTrain)\n",
        "    selfTrainingAccus.append(evaluate(model, xTargetTest, yTargetTest))\n",
        "\n",
        "print(\"Average accuracy of self-training is:\", np.mean(selfTrainingAccus))\n",
        "print(\"Average accuracy of pseudo-labeling is:\", np.mean(pseudoLabelAccus))"
      ]
    },
    {
      "cell_type": "code",
      "execution_count": 30,
      "metadata": {},
      "outputs": [
        {
          "data": {
            "text/plain": [
              "<matplotlib.legend.Legend at 0x7fc78019a5e0>"
            ]
          },
          "execution_count": 30,
          "metadata": {},
          "output_type": "execute_result"
        },
        {
          "data": {
            "image/png": "[encoded data removed]",
            "text/plain": [
              "<Figure size 432x288 with 1 Axes>"
            ]
          },
          "metadata": {
            "needs_background": "light"
          },
          "output_type": "display_data"
        }
      ],
      "source": [
        "plt.plot(selfTrainingAccus, label=\"Self-Training\")\n",
        "plt.plot(pseudoLabelAccus, label=\"Pseudo-Labeling\")\n",
        "plt.legend()"
      ]
    },
    {
      "cell_type": "code",
      "execution_count": null,
      "metadata": {
        "id": "zxtWFmlRdX_M"
      },
      "outputs": [],
      "source": []
    },
    {
      "cell_type": "code",
      "execution_count": null,
      "metadata": {
        "id": "FR1R8eLTdX8m"
      },
      "outputs": [],
      "source": []
    },
    {
      "cell_type": "code",
      "execution_count": null,
      "metadata": {
        "id": "TMnQwh0IdX6R"
      },
      "outputs": [],
      "source": []
    },
    {
      "cell_type": "code",
      "execution_count": null,
      "metadata": {
        "id": "uWMp_EYA0zmL"
      },
      "outputs": [],
      "source": []
    },
    {
      "cell_type": "code",
      "execution_count": null,
      "metadata": {
        "id": "xABvANbu0zj2"
      },
      "outputs": [],
      "source": []
    },
    {
      "cell_type": "code",
      "execution_count": null,
      "metadata": {
        "id": "JGPBQaPx0zhg"
      },
      "outputs": [],
      "source": []
    },
    {
      "cell_type": "code",
      "execution_count": null,
      "metadata": {
        "id": "T943WxmxSMgm"
      },
      "outputs": [],
      "source": []
    },
    {
      "cell_type": "code",
      "execution_count": null,
      "metadata": {
        "id": "kIdGPs0cPNTz"
      },
      "outputs": [],
      "source": []
    },
    {
      "cell_type": "code",
      "execution_count": null,
      "metadata": {
        "id": "-H-kwwgq92Ox"
      },
      "outputs": [],
      "source": []
    }
  ],
  "metadata": {
    "accelerator": "GPU",
    "colab": {
      "provenance": []
    },
    "kernelspec": {
      "display_name": "Python 3",
      "name": "python3"
    },
    "language_info": {
      "codemirror_mode": {
        "name": "ipython",
        "version": 3
      },
      "file_extension": ".py",
      "mimetype": "text/x-python",
      "name": "python",
      "nbconvert_exporter": "python",
      "pygments_lexer": "ipython3",
      "version": "3.9.12 (main, Apr  5 2022, 01:53:17) \n[Clang 12.0.0 ]"
    },
    "vscode": {
      "interpreter": {
        "hash": "1fe8eaf950b0cf64c1b70de22759d9a144a2595c541b4003711edd1f96d908e5"
      }
    }
  },
  "nbformat": 4,
  "nbformat_minor": 0
}
