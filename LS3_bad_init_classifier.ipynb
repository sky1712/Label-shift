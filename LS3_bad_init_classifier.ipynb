{
 "cells": [
  {
   "cell_type": "code",
   "execution_count": 202,
   "metadata": {
    "id": "7Akr4lXL2VEI"
   },
   "outputs": [],
   "source": [
    "import torch\n",
    "import torch.nn as nn\n",
    "import torch.nn.functional as F\n",
    "import matplotlib.pyplot as plt\n",
    "import numpy as np\n",
    "from tqdm import tqdm\n",
    "import collections\n",
    "import copy"
   ]
  },
  {
   "cell_type": "code",
   "execution_count": 203,
   "metadata": {
    "id": "oBtE_48a2VEJ"
   },
   "outputs": [],
   "source": [
    "def gen_data(n, d, w, gamma, p):\n",
    "    ys = torch.distributions.Bernoulli(torch.tensor(p)).sample((n, 1))\n",
    "    scaleDown = torch.tensor([1., 10.])\n",
    "    zs = torch.randn(n, d)\n",
    "    xs = (zs) / scaleDown[ys.long()] + gamma * (2*ys-1) * w\n",
    "    return xs.float(), ys"
   ]
  },
  {
   "cell_type": "code",
   "execution_count": 38,
   "metadata": {
    "id": "b8SGHiOX2VEJ"
   },
   "outputs": [],
   "source": [
    "def bayes_accuracy(xs, ys, w, gamma, p):\n",
    "    temp = 1/(1+torch.exp(2*gamma*torch.matmul(xs, w)))\n",
    "    preds = temp <= p\n",
    "    return (preds == ys[:,0]).float().mean()"
   ]
  },
  {
   "cell_type": "code",
   "execution_count": 39,
   "metadata": {},
   "outputs": [],
   "source": [
    "# plot the decision boundary of the linear neural network on the source dataset\n",
    "def plot_decision_boundary2(model, title, ax):\n",
    "    x = np.linspace(-5, 5, 100)\n",
    "    y = -model[0].bias.data.item()/model[0].weight.data[0,1].item() - model[0].weight.data[0,0].item()/model[0].weight.data[0,1].item() * x\n",
    "    ax.plot(x, y, label=title)"
   ]
  },
  {
   "cell_type": "code",
   "execution_count": 40,
   "metadata": {
    "id": "94kEQB452VEK"
   },
   "outputs": [],
   "source": [
    "def train_on_source(xTrain, yTrain, xTest, yTest):\n",
    "    '''\n",
    "    Trains a logistic regression model on the source dataset and returns the model.\n",
    "    '''\n",
    "    model = nn.Sequential(nn.Linear(xTrain.shape[1], 1))\n",
    "    optimizer = torch.optim.SGD(model.parameters(), lr=0.001)\n",
    "    for i in tqdm(range(10000)):\n",
    "        optimizer.zero_grad()\n",
    "        outputs = torch.sigmoid(model(xTrain))\n",
    "        loss = F.binary_cross_entropy(outputs, yTrain)\n",
    "        loss.backward()\n",
    "        optimizer.step()\n",
    "    return model"
   ]
  },
  {
   "cell_type": "code",
   "execution_count": null,
   "metadata": {},
   "outputs": [],
   "source": []
  },
  {
   "cell_type": "code",
   "execution_count": 215,
   "metadata": {
    "id": "XFCj6rnG2VEK"
   },
   "outputs": [],
   "source": [
    "def adapt(model, xTarget, epochs = 10000):\n",
    "    '''\n",
    "    Adapts the model to the target dataset and returns the adapted model.\n",
    "    Current code uses Adam since the SGD was very slow.\n",
    "    '''\n",
    "    optimizer = torch.optim.Adam(model.parameters(), lr=0.00001)\n",
    "    grads_by_neg = []\n",
    "    norms = []\n",
    "    for i in tqdm(range(epochs)):\n",
    "        optimizer.zero_grad()\n",
    "        outputs = model(xTarget)\n",
    "        \n",
    "        probsPred = torch.sigmoid(outputs)\n",
    "        labelPreds = (probsPred > 0.5).float().detach()\n",
    "        loss = F.binary_cross_entropy(probsPred, labelPreds)\n",
    "\n",
    "        # labelPreds = (outputs > 0).float().detach()\n",
    "        # loss = torch.mean(torch.clamp(1 - outputs.t() * labelPreds, min=0))\n",
    "        # loss = torch.mean(torch.exp(-outputs.t() * labelPreds))\n",
    "        loss.backward()\n",
    "        norms.append(torch.norm(model[0].weight.grad).item())\n",
    "        \n",
    "        optimizer.step()\n",
    "    return model, norms"
   ]
  },
  {
   "cell_type": "code",
   "execution_count": 42,
   "metadata": {
    "id": "6owaD2eC2VEK"
   },
   "outputs": [],
   "source": [
    "def evaluate(model, x, y):\n",
    "    return((model(x) > 0) == y).float().mean().item()"
   ]
  },
  {
   "cell_type": "code",
   "execution_count": 208,
   "metadata": {
    "id": "1R6w5nMa2VEK"
   },
   "outputs": [],
   "source": [
    "n = 10000\n",
    "d = 2\n",
    "w = torch.ones(d)/np.sqrt(d)\n",
    "gamma = 1\n",
    "pSource = 0.5\n",
    "pTarget = 0.5"
   ]
  },
  {
   "cell_type": "code",
   "execution_count": 193,
   "metadata": {
    "id": "CUjjpBFB2VEL"
   },
   "outputs": [],
   "source": [
    "xSourceTrain, ySourceTrain = gen_data(n, d, w, gamma, pSource)\n",
    "xSourceTest, ySourceTest = gen_data(n, d, w, gamma, pSource)\n",
    "\n",
    "xTargetTrain, yTargetTrain = gen_data(n, d, w, gamma, pTarget)\n",
    "xTargetTest, yTargetTest = gen_data(n, d, w, gamma, pTarget)"
   ]
  },
  {
   "cell_type": "code",
   "execution_count": 194,
   "metadata": {},
   "outputs": [
    {
     "data": {
      "text/plain": [
       "(tensor([-0.3521, -0.3494]), tensor([0.3543, 0.3529]))"
      ]
     },
     "execution_count": 194,
     "metadata": {},
     "output_type": "execute_result"
    }
   ],
   "source": [
    "torch.mean(xSourceTrain[ySourceTrain[:,0] == 0], dim=0), torch.mean(xSourceTrain[ySourceTrain[:,0] == 1], dim=0)"
   ]
  },
  {
   "cell_type": "code",
   "execution_count": 195,
   "metadata": {},
   "outputs": [
    {
     "name": "stderr",
     "output_type": "stream",
     "text": [
      "/var/folders/_x/wtryhxsj37vd8b_d3pb8klt40000gn/T/ipykernel_53855/1179377512.py:4: UserWarning: To copy construct from a tensor, it is recommended to use sourceTensor.clone().detach() or sourceTensor.clone().detach().requires_grad_(True), rather than torch.tensor(sourceTensor).\n",
      "  model[0].bias.data = torch.tensor(-torch.sum(torch.mean(xSourceTrain[ySourceTrain[:,0] == 1], dim=0))).float()\n"
     ]
    }
   ],
   "source": [
    "# initialize a linear model whose classifier is the line parallel to y+x=0 and passes through [1/sqrt(2), 1/sqrt(2)]\n",
    "model = nn.Sequential(nn.Linear(2, 1))\n",
    "model[0].weight.data = torch.tensor([[1., 1.]]).float()\n",
    "model[0].bias.data = torch.tensor(-torch.sum(torch.mean(xSourceTrain[ySourceTrain[:,0] == 1], dim=0))).float()\n"
   ]
  },
  {
   "cell_type": "code",
   "execution_count": 196,
   "metadata": {},
   "outputs": [
    {
     "name": "stderr",
     "output_type": "stream",
     "text": [
      "100%|██████████| 500000/500000 [03:50<00:00, 2166.62it/s]\n"
     ]
    }
   ],
   "source": [
    "adaptedModel = copy.deepcopy(model)\n",
    "adaptedModel = adapt(adaptedModel, xTargetTrain[yTargetTrain[:,0] == 1], epochs=500000)"
   ]
  },
  {
   "cell_type": "code",
   "execution_count": 197,
   "metadata": {},
   "outputs": [
    {
     "data": {
      "image/png": "[encoded data removed]",
      "text/plain": [
       "<Figure size 432x288 with 1 Axes>"
      ]
     },
     "metadata": {
      "needs_background": "light"
     },
     "output_type": "display_data"
    }
   ],
   "source": [
    "plot_decision_boundary2(model, 'initial classifier', plt)\n",
    "plt.scatter(xSourceTrain[ySourceTrain[:,0] == 0, 0], xSourceTrain[ySourceTrain[:,0] == 0, 1], label='y=0')\n",
    "plt.scatter(xSourceTrain[ySourceTrain[:,0] == 1, 0], xSourceTrain[ySourceTrain[:,0] == 1, 1], label='y=1')\n",
    "plt.legend()\n",
    "plt.show()"
   ]
  },
  {
   "cell_type": "code",
   "execution_count": 198,
   "metadata": {},
   "outputs": [
    {
     "data": {
      "image/png": "[encoded data removed]",
      "text/plain": [
       "<Figure size 432x288 with 1 Axes>"
      ]
     },
     "metadata": {
      "needs_background": "light"
     },
     "output_type": "display_data"
    }
   ],
   "source": [
    "plot_decision_boundary2(model, 'initial classifier', plt)\n",
    "plot_decision_boundary2(adaptedModel, 'adapted classifier', plt)\n",
    "plt.scatter(xTargetTrain[yTargetTrain[:,0] == 0, 0], xTargetTrain[yTargetTrain[:,0] == 0, 1], label='y=0')\n",
    "plt.scatter(xTargetTrain[yTargetTrain[:,0] == 1, 0], xTargetTrain[yTargetTrain[:,0] == 1, 1], label='y=1')\n",
    "plt.legend()\n",
    "plt.show()\n"
   ]
  },
  {
   "cell_type": "code",
   "execution_count": 216,
   "metadata": {},
   "outputs": [
    {
     "name": "stderr",
     "output_type": "stream",
     "text": [
      "100%|██████████| 10000/10000 [00:07<00:00, 1367.79it/s]\n",
      "100%|██████████| 10000/10000 [00:07<00:00, 1351.77it/s]\n"
     ]
    },
    {
     "ename": "AttributeError",
     "evalue": "'Sequential' object has no attribute 'bias'",
     "output_type": "error",
     "traceback": [
      "\u001b[0;31m---------------------------------------------------------------------------\u001b[0m",
      "\u001b[0;31mAttributeError\u001b[0m                            Traceback (most recent call last)",
      "\u001b[1;32m/Users/akash/Desktop/summer project gaussian first/LS3_bad_init_classifier.ipynb Cell 16\u001b[0m in \u001b[0;36m<cell line: 6>\u001b[0;34m()\u001b[0m\n\u001b[1;32m     <a href='vscode-notebook-cell:/Users/akash/Desktop/summer%20project%20gaussian%20first/LS3_bad_init_classifier.ipynb#X21sZmlsZQ%3D%3D?line=19'>20</a>\u001b[0m plot_decision_boundary2(model, \u001b[39m'\u001b[39m\u001b[39minitial classifier\u001b[39m\u001b[39m'\u001b[39m, ax[\u001b[39m1\u001b[39m, i])\n\u001b[1;32m     <a href='vscode-notebook-cell:/Users/akash/Desktop/summer%20project%20gaussian%20first/LS3_bad_init_classifier.ipynb#X21sZmlsZQ%3D%3D?line=20'>21</a>\u001b[0m model, norms \u001b[39m=\u001b[39m adapt(model, xTargetTrain, epochs\u001b[39m=\u001b[39m\u001b[39m10000\u001b[39m)\n\u001b[0;32m---> <a href='vscode-notebook-cell:/Users/akash/Desktop/summer%20project%20gaussian%20first/LS3_bad_init_classifier.ipynb#X21sZmlsZQ%3D%3D?line=21'>22</a>\u001b[0m plot_decision_boundary2(adapt(model, xTargetTrain, epochs\u001b[39m=\u001b[39;49m\u001b[39m10000\u001b[39;49m), \u001b[39m'\u001b[39;49m\u001b[39madapted classifier\u001b[39;49m\u001b[39m'\u001b[39;49m, ax[\u001b[39m1\u001b[39;49m, i])\n\u001b[1;32m     <a href='vscode-notebook-cell:/Users/akash/Desktop/summer%20project%20gaussian%20first/LS3_bad_init_classifier.ipynb#X21sZmlsZQ%3D%3D?line=22'>23</a>\u001b[0m probPred \u001b[39m=\u001b[39m torch\u001b[39m.\u001b[39msigmoid(model(xTargetTrain))\n\u001b[1;32m     <a href='vscode-notebook-cell:/Users/akash/Desktop/summer%20project%20gaussian%20first/LS3_bad_init_classifier.ipynb#X21sZmlsZQ%3D%3D?line=23'>24</a>\u001b[0m labelPred \u001b[39m=\u001b[39m (probPred \u001b[39m>\u001b[39m \u001b[39m0.5\u001b[39m)\u001b[39m.\u001b[39mfloat()\n",
      "\u001b[1;32m/Users/akash/Desktop/summer project gaussian first/LS3_bad_init_classifier.ipynb Cell 16\u001b[0m in \u001b[0;36mplot_decision_boundary2\u001b[0;34m(model, title, ax)\u001b[0m\n\u001b[1;32m      <a href='vscode-notebook-cell:/Users/akash/Desktop/summer%20project%20gaussian%20first/LS3_bad_init_classifier.ipynb#X21sZmlsZQ%3D%3D?line=1'>2</a>\u001b[0m \u001b[39mdef\u001b[39;00m \u001b[39mplot_decision_boundary2\u001b[39m(model, title, ax):\n\u001b[1;32m      <a href='vscode-notebook-cell:/Users/akash/Desktop/summer%20project%20gaussian%20first/LS3_bad_init_classifier.ipynb#X21sZmlsZQ%3D%3D?line=2'>3</a>\u001b[0m     x \u001b[39m=\u001b[39m np\u001b[39m.\u001b[39mlinspace(\u001b[39m-\u001b[39m\u001b[39m5\u001b[39m, \u001b[39m5\u001b[39m, \u001b[39m100\u001b[39m)\n\u001b[0;32m----> <a href='vscode-notebook-cell:/Users/akash/Desktop/summer%20project%20gaussian%20first/LS3_bad_init_classifier.ipynb#X21sZmlsZQ%3D%3D?line=3'>4</a>\u001b[0m     y \u001b[39m=\u001b[39m \u001b[39m-\u001b[39mmodel[\u001b[39m0\u001b[39;49m]\u001b[39m.\u001b[39;49mbias\u001b[39m.\u001b[39mdata\u001b[39m.\u001b[39mitem()\u001b[39m/\u001b[39mmodel[\u001b[39m0\u001b[39m]\u001b[39m.\u001b[39mweight\u001b[39m.\u001b[39mdata[\u001b[39m0\u001b[39m,\u001b[39m1\u001b[39m]\u001b[39m.\u001b[39mitem() \u001b[39m-\u001b[39m model[\u001b[39m0\u001b[39m]\u001b[39m.\u001b[39mweight\u001b[39m.\u001b[39mdata[\u001b[39m0\u001b[39m,\u001b[39m0\u001b[39m]\u001b[39m.\u001b[39mitem()\u001b[39m/\u001b[39mmodel[\u001b[39m0\u001b[39m]\u001b[39m.\u001b[39mweight\u001b[39m.\u001b[39mdata[\u001b[39m0\u001b[39m,\u001b[39m1\u001b[39m]\u001b[39m.\u001b[39mitem() \u001b[39m*\u001b[39m x\n\u001b[1;32m      <a href='vscode-notebook-cell:/Users/akash/Desktop/summer%20project%20gaussian%20first/LS3_bad_init_classifier.ipynb#X21sZmlsZQ%3D%3D?line=4'>5</a>\u001b[0m     ax\u001b[39m.\u001b[39mplot(x, y, label\u001b[39m=\u001b[39mtitle)\n",
      "File \u001b[0;32m~/opt/anaconda3/lib/python3.9/site-packages/torch/nn/modules/module.py:1269\u001b[0m, in \u001b[0;36mModule.__getattr__\u001b[0;34m(self, name)\u001b[0m\n\u001b[1;32m   1267\u001b[0m     \u001b[39mif\u001b[39;00m name \u001b[39min\u001b[39;00m modules:\n\u001b[1;32m   1268\u001b[0m         \u001b[39mreturn\u001b[39;00m modules[name]\n\u001b[0;32m-> 1269\u001b[0m \u001b[39mraise\u001b[39;00m \u001b[39mAttributeError\u001b[39;00m(\u001b[39m\"\u001b[39m\u001b[39m'\u001b[39m\u001b[39m{}\u001b[39;00m\u001b[39m'\u001b[39m\u001b[39m object has no attribute \u001b[39m\u001b[39m'\u001b[39m\u001b[39m{}\u001b[39;00m\u001b[39m'\u001b[39m\u001b[39m\"\u001b[39m\u001b[39m.\u001b[39mformat(\n\u001b[1;32m   1270\u001b[0m     \u001b[39mtype\u001b[39m(\u001b[39mself\u001b[39m)\u001b[39m.\u001b[39m\u001b[39m__name__\u001b[39m, name))\n",
      "\u001b[0;31mAttributeError\u001b[0m: 'Sequential' object has no attribute 'bias'"
     ]
    },
    {
     "data": {
      "image/png": "[encoded data removed]",
      "text/plain": [
       "<Figure size 1440x360 with 10 Axes>"
      ]
     },
     "metadata": {
      "needs_background": "light"
     },
     "output_type": "display_data"
    }
   ],
   "source": [
    "f, ax = plt.subplots(2, 5, figsize=(20, 5))\n",
    "init_loss = []\n",
    "final_loss = []\n",
    "# plot the decision boundary of the linear neural network on the source dataset before adaptation and after adaptation. Repeat 5 times\n",
    "pTarget = 0.5\n",
    "for i in range(1):\n",
    "    xSourceTrain, ySourceTrain = gen_data(n, d, w, gamma, pSource)\n",
    "    xSourceTest, ySourceTest = gen_data(n, d, w, gamma, pSource)\n",
    "\n",
    "    xTargetTrain, yTargetTrain = gen_data(n, d, w, gamma, pTarget)\n",
    "    xTargetTest, yTargetTest = gen_data(n, d, w, gamma, pTarget)\n",
    "    model = nn.Sequential(nn.Linear(2, 1))\n",
    "    model[0].weight.data = torch.tensor([[1., 1.]]).float()\n",
    "    model[0].bias.data = torch.tensor([gamma*np.sqrt(2)]).float()\n",
    "    probPred = torch.sigmoid(model(xTargetTrain))\n",
    "    labelPred = (probPred > 0.5).float()\n",
    "    init_loss.append(F.binary_cross_entropy(probPred, labelPred).item())\n",
    "\n",
    "    plot_decision_boundary2(model, 'initial classifier', ax[0, i])\n",
    "    plot_decision_boundary2(model, 'initial classifier', ax[1, i])\n",
    "    model, norms = adapt(model, xTargetTrain, epochs=10000)\n",
    "    plot_decision_boundary2(adapt(model, xTargetTrain, epochs=10000)[], 'adapted classifier', ax[1, i])\n",
    "    probPred = torch.sigmoid(model(xTargetTrain))\n",
    "    labelPred = (probPred > 0.5).float()\n",
    "    final_loss.append(F.binary_cross_entropy(probPred, labelPred).item())\n",
    "    ax[0, i].scatter(xSourceTrain[ySourceTrain[:,0] == 0, 0], xSourceTrain[ySourceTrain[:,0] == 0, 1], label='y=0')\n",
    "    ax[0, i].scatter(xSourceTrain[ySourceTrain[:,0] == 1, 0], xSourceTrain[ySourceTrain[:,0] == 1, 1], label='y=1')\n",
    "    ax[1, i].scatter(xTargetTrain[yTargetTrain[:,0] == 0, 0], xTargetTrain[yTargetTrain[:,0] == 0, 1], label='y=0')\n",
    "    ax[1, i].scatter(xTargetTrain[yTargetTrain[:,0] == 1, 0], xTargetTrain[yTargetTrain[:,0] == 1, 1], label='y=1')\n",
    "    ax[0, i].legend()\n",
    "    ax[1, i].legend()\n",
    "f.suptitle('Decision boundary of the linear neural network on the source dataset before adaptation and after adaptation for p={}, gamma={}'.format(pTarget, gamma))\n",
    "plt.show()\n",
    "plt.close()"
   ]
  },
  {
   "cell_type": "code",
   "execution_count": 217,
   "metadata": {},
   "outputs": [
    {
     "data": {
      "text/plain": [
       "[<matplotlib.lines.Line2D at 0x7fdc2a3f7460>]"
      ]
     },
     "execution_count": 217,
     "metadata": {},
     "output_type": "execute_result"
    },
    {
     "data": {
      "image/png": "[encoded data removed]",
      "text/plain": [
       "<Figure size 432x288 with 1 Axes>"
      ]
     },
     "metadata": {
      "needs_background": "light"
     },
     "output_type": "display_data"
    }
   ],
   "source": [
    "plt.plot(norms)"
   ]
  },
  {
   "cell_type": "code",
   "execution_count": 211,
   "metadata": {},
   "outputs": [
    {
     "data": {
      "text/plain": [
       "([0.201573446393013,\n",
       "  0.19784720242023468,\n",
       "  0.1982344537973404,\n",
       "  0.19608843326568604,\n",
       "  0.2006034404039383],\n",
       " [0.18627426028251648,\n",
       "  0.18218788504600525,\n",
       "  0.1826896071434021,\n",
       "  0.18070928752422333,\n",
       "  0.1851746141910553])"
      ]
     },
     "execution_count": 211,
     "metadata": {},
     "output_type": "execute_result"
    }
   ],
   "source": [
    "init_loss, final_loss"
   ]
  },
  {
   "cell_type": "code",
   "execution_count": 199,
   "metadata": {},
   "outputs": [],
   "source": [
    "def grad_by_data_on_model(model, xs):\n",
    "    model.zero_grad()\n",
    "    probPred = torch.sigmoid(model(xs))\n",
    "    labelPred = (probPred > 0.5).float().detach()\n",
    "    loss = F.binary_cross_entropy(probPred, labelPred)\n",
    "    loss.backward()\n",
    "    return model[0].weight.grad.data, model[0].bias.grad.data"
   ]
  },
  {
   "cell_type": "code",
   "execution_count": 200,
   "metadata": {},
   "outputs": [],
   "source": [
    "model = nn.Sequential(nn.Linear(2, 1))\n",
    "model[0].weight.data = torch.tensor([[1., 1.]]).float()\n",
    "model[0].bias.data = torch.tensor([-gamma*np.sqrt(2)]).float()"
   ]
  },
  {
   "cell_type": "code",
   "execution_count": 201,
   "metadata": {},
   "outputs": [
    {
     "name": "stdout",
     "output_type": "stream",
     "text": [
      "(tensor([[-0.0644, -0.0629]]), tensor([0.0976]))\n",
      "(tensor([[-0.0241, -0.0244]]), tensor([0.0044]))\n"
     ]
    }
   ],
   "source": [
    "print(grad_by_data_on_model(model, xTargetTrain[yTargetTrain[:,0] == 0]))\n",
    "print(grad_by_data_on_model(model, xTargetTrain[yTargetTrain[:,0] == 1]))"
   ]
  },
  {
   "cell_type": "code",
   "execution_count": 102,
   "metadata": {},
   "outputs": [
    {
     "name": "stdout",
     "output_type": "stream",
     "text": [
      "grad of neg labels (tensor([[-0.0076, -0.0078]]), tensor([0.0324]))\n",
      "grad of pos labels (tensor([[-0.0299, -0.0308]]), tensor([-0.0043]))\n",
      "grad of all labels (tensor([[-0.0190, -0.0195]]), tensor([0.0137]))\n",
      "\n",
      "\n",
      "grad of neg labels (tensor([[-0.0082, -0.0083]]), tensor([0.0305]))\n",
      "grad of pos labels (tensor([[-0.0293, -0.0296]]), tensor([-0.0037]))\n",
      "grad of all labels (tensor([[-0.0189, -0.0191]]), tensor([0.0131]))\n",
      "\n",
      "\n",
      "grad of neg labels (tensor([[-0.0096, -0.0068]]), tensor([0.0320]))\n",
      "grad of pos labels (tensor([[-0.0221, -0.0231]]), tensor([0.0031]))\n",
      "grad of all labels (tensor([[-0.0158, -0.0149]]), tensor([0.0176]))\n",
      "\n",
      "\n",
      "grad of neg labels (tensor([[-0.0066, -0.0080]]), tensor([0.0323]))\n",
      "grad of pos labels (tensor([[-0.0187, -0.0172]]), tensor([0.0074]))\n",
      "grad of all labels (tensor([[-0.0126, -0.0125]]), tensor([0.0200]))\n",
      "\n",
      "\n",
      "grad of neg labels (tensor([[-0.0064, -0.0086]]), tensor([0.0320]))\n",
      "grad of pos labels (tensor([[-0.0238, -0.0253]]), tensor([0.0015]))\n",
      "grad of all labels (tensor([[-0.0151, -0.0170]]), tensor([0.0167]))\n",
      "\n",
      "\n",
      "grad of neg labels (tensor([[-0.0067, -0.0087]]), tensor([0.0317]))\n",
      "grad of pos labels (tensor([[-0.0250, -0.0263]]), tensor([2.2331e-05]))\n",
      "grad of all labels (tensor([[-0.0157, -0.0174]]), tensor([0.0161]))\n",
      "\n",
      "\n",
      "grad of neg labels (tensor([[-0.0085, -0.0081]]), tensor([0.0305]))\n",
      "grad of pos labels (tensor([[-0.0311, -0.0300]]), tensor([-0.0049]))\n",
      "grad of all labels (tensor([[-0.0199, -0.0192]]), tensor([0.0126]))\n",
      "\n",
      "\n",
      "grad of neg labels (tensor([[-0.0073, -0.0067]]), tensor([0.0325]))\n",
      "grad of pos labels (tensor([[-0.0160, -0.0166]]), tensor([0.0087]))\n",
      "grad of all labels (tensor([[-0.0117, -0.0117]]), tensor([0.0206]))\n",
      "\n",
      "\n",
      "grad of neg labels (tensor([[-0.0079, -0.0066]]), tensor([0.0321]))\n",
      "grad of pos labels (tensor([[-0.0180, -0.0188]]), tensor([0.0070]))\n",
      "grad of all labels (tensor([[-0.0129, -0.0127]]), tensor([0.0196]))\n",
      "\n",
      "\n",
      "grad of neg labels (tensor([[-0.0072, -0.0077]]), tensor([0.0319]))\n",
      "grad of pos labels (tensor([[-0.0351, -0.0361]]), tensor([-0.0095]))\n",
      "grad of all labels (tensor([[-0.0213, -0.0221]]), tensor([0.0110]))\n",
      "\n",
      "\n"
     ]
    }
   ],
   "source": [
    "for _ in range(10):\n",
    "    xTargetTrain, yTargetTrain = gen_data(n, d, w, gamma, pTarget)\n",
    "    model = nn.Sequential(nn.Linear(2, 1))\n",
    "    model[0].weight.data = torch.tensor([[1., 1.]]).float()\n",
    "    model[0].bias.data = torch.tensor([-1.5*np.sqrt(2)]).float()\n",
    "    print(\"grad of neg labels\", grad_by_data_on_model(model, xTargetTrain[yTargetTrain[:,0] == 0]))\n",
    "    print(\"grad of pos labels\", grad_by_data_on_model(model, xTargetTrain[yTargetTrain[:,0] == 1]))\n",
    "    print(\"grad of all labels\", grad_by_data_on_model(model, xTargetTrain))\n",
    "    print(\"\\n\")"
   ]
  },
  {
   "cell_type": "code",
   "execution_count": null,
   "metadata": {},
   "outputs": [],
   "source": []
  },
  {
   "cell_type": "code",
   "execution_count": null,
   "metadata": {},
   "outputs": [],
   "source": []
  },
  {
   "cell_type": "code",
   "execution_count": 181,
   "metadata": {
    "colab": {
     "base_uri": "https://localhost:8080/"
    },
    "id": "xWWGr9mN2VEL",
    "outputId": "44f70b92-9c81-4cb7-8061-34d5e34de2b5"
   },
   "outputs": [
    {
     "name": "stdout",
     "output_type": "stream",
     "text": [
      "Bayes accuracy on source is: tensor(0.9246)\n",
      "Bayes accuracy on target is: tensor(0.9234)\n"
     ]
    }
   ],
   "source": [
    "bAccuSource = bayes_accuracy(xSourceTest, ySourceTest, w, gamma, pSource)\n",
    "bAccuTarget = bayes_accuracy(xTargetTest, yTargetTest, w, gamma, pTarget)\n",
    "print(\"Bayes accuracy on source is:\", bAccuSource)\n",
    "print(\"Bayes accuracy on target is:\", bAccuTarget)"
   ]
  },
  {
   "cell_type": "code",
   "execution_count": null,
   "metadata": {
    "colab": {
     "base_uri": "https://localhost:8080/"
    },
    "id": "dwEOBDYs2VEL",
    "outputId": "ebf406a2-79b3-4cc4-ef69-d618c802c221"
   },
   "outputs": [
    {
     "name": "stderr",
     "output_type": "stream",
     "text": [
      "100%|██████████| 10000/10000 [00:03<00:00, 2926.26it/s]\n"
     ]
    },
    {
     "name": "stdout",
     "output_type": "stream",
     "text": [
      "Accuracy on source is: 0.8349999785423279\n",
      "Accuracy on target is: 0.8420000076293945\n"
     ]
    },
    {
     "name": "stderr",
     "output_type": "stream",
     "text": [
      "100%|██████████| 1000000/1000000 [09:19<00:00, 1787.10it/s]"
     ]
    },
    {
     "name": "stdout",
     "output_type": "stream",
     "text": [
      "Accuracy on source is: 0.7379999756813049\n",
      "Accuracy on target is: 0.9210000038146973\n"
     ]
    },
    {
     "name": "stderr",
     "output_type": "stream",
     "text": [
      "\n"
     ]
    }
   ],
   "source": [
    "model = train_on_source(xSourceTrain, ySourceTrain, xSourceTest, ySourceTest)\n",
    "print(\"Accuracy on source is:\", evaluate(model, xSourceTest, ySourceTest))\n",
    "print(\"Accuracy on target is:\", evaluate(model, xTargetTest, yTargetTest))\n",
    "\n",
    "model = adapt(model, xTargetTrain)\n",
    "print(\"Accuracy on source is:\", evaluate(model, xSourceTest, ySourceTest))\n",
    "print(\"Accuracy on target is:\", evaluate(model, xTargetTest, yTargetTest))"
   ]
  }
 ],
 "metadata": {
  "kernelspec": {
   "display_name": "base",
   "language": "python",
   "name": "python3"
  },
  "language_info": {
   "codemirror_mode": {
    "name": "ipython",
    "version": 3
   },
   "file_extension": ".py",
   "mimetype": "text/x-python",
   "name": "python",
   "nbconvert_exporter": "python",
   "pygments_lexer": "ipython3",
   "version": "3.9.12"
  },
  "orig_nbformat": 4,
  "vscode": {
   "interpreter": {
    "hash": "1fe8eaf950b0cf64c1b70de22759d9a144a2595c541b4003711edd1f96d908e5"
   }
  }
 },
 "nbformat": 4,
 "nbformat_minor": 2
}
