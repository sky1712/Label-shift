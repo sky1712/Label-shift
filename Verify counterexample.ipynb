{
 "cells": [
  {
   "cell_type": "code",
   "execution_count": 1,
   "metadata": {},
   "outputs": [],
   "source": [
    "import numpy as np\n",
    "import matplotlib.pyplot as plt\n",
    "import torch.nn as nn\n",
    "import torch\n",
    "import torch.nn.functional as F\n",
    "from tqdm import tqdm\n",
    "import copy\n",
    "import collections"
   ]
  },
  {
   "cell_type": "code",
   "execution_count": 2,
   "metadata": {},
   "outputs": [],
   "source": [
    "def gen_data(n, d, p, shift=1.0):\n",
    "    ys = torch.distributions.Bernoulli(torch.tensor(p)).sample((n, 1))\n",
    "    zs = torch.randn(n, d)\n",
    "    xs = zs + shift * (2*ys-1)\n",
    "    return xs.float(), ys\n",
    "\n",
    "def gen_data2(n, d, p, shift = 1.0):\n",
    "    ys = torch.distributions.Bernoulli(torch.tensor(p)).sample((n, 1))\n",
    "    zs = torch.randn(n, d)\n",
    "    sw = torch.distributions.Bernoulli(torch.tensor(.25)).sample((n, 1))\n",
    "    xs = zs + shift * (2*ys-1)*(1-2*sw)\n",
    "    return xs.float(), ys"
   ]
  },
  {
   "cell_type": "code",
   "execution_count": null,
   "metadata": {},
   "outputs": [],
   "source": [
    "def cdf(mu, sigma, x):\n",
    "    return 0.5 * (1 + torch.erf((x - mu) / (sigma * np.sqrt(2))))\n",
    "\n",
    "def pdf(mu, sigma, x):\n",
    "    return 1 / (sigma * np.sqrt(2 * np.pi)) * torch.exp(-(x - mu)**2 / (2 * sigma**2))"
   ]
  },
  {
   "cell_type": "code",
   "execution_count": null,
   "metadata": {},
   "outputs": [],
   "source": [
    "def bayes_accuracy(xs, ys, mu0, sigma0, mu1, sigma1, p):\n",
    "    prob0 = pdf(mu0, sigma0, xs) * (1-p)\n",
    "    prob1 = pdf(mu1, sigma1, xs) * p\n",
    "    return ((prob0 < prob1) == ys).float().mean()\n",
    "\n",
    "def bayes_accuracy2(xs, ys, mu0, sigma0, mu1, sigma1, p):\n",
    "    prob0 = (.75 * pdf(mu0, sigma0, xs) + .25 * pdf(mu1, sigma1, xs)) * (1-p)\n",
    "    prob1 = (.25 * pdf(mu0, sigma0, xs) + .75 * pdf(mu1, sigma1, xs)) * p\n",
    "    return ((prob0 < prob1) == ys).float().mean()"
   ]
  },
  {
   "cell_type": "code",
   "execution_count": 12,
   "metadata": {},
   "outputs": [],
   "source": [
    "def evaluate(model, x, y):\n",
    "    return((model(x) > 0.5) == y).float().mean().item()"
   ]
  },
  {
   "cell_type": "code",
   "execution_count": 43,
   "metadata": {},
   "outputs": [],
   "source": [
    "def adapt(model, xTarget, yTarget, epochs=20000):\n",
    "    accus = []\n",
    "    optimizer = torch.optim.Adam(model.parameters(), lr=0.001)\n",
    "    for i in tqdm(range(epochs)):\n",
    "        optimizer.zero_grad()\n",
    "        probPreds = model(xTarget)\n",
    "        labelPreds = (probPreds > 0.5).float().detach()\n",
    "        loss = F.binary_cross_entropy(probPreds, labelPreds)\n",
    "        if i % 1000 == 0:\n",
    "            accus.append(evaluate(model, xTarget, yTarget))\n",
    "        loss.backward()\n",
    "        optimizer.step()\n",
    "    return model, accus"
   ]
  },
  {
   "cell_type": "code",
   "execution_count": null,
   "metadata": {},
   "outputs": [],
   "source": [
    "xs, ys = gen_data2(1000, 2, 0.5)\n",
    "plt.scatter(xs[:, 0], xs[:, 1], c=ys[:, 0])"
   ]
  },
  {
   "cell_type": "code",
   "execution_count": 44,
   "metadata": {},
   "outputs": [],
   "source": [
    "n = 2000\n",
    "d = 1"
   ]
  },
  {
   "cell_type": "code",
   "execution_count": 45,
   "metadata": {},
   "outputs": [
    {
     "name": "stderr",
     "output_type": "stream",
     "text": [
      "100%|██████████| 20000/20000 [00:09<00:00, 2221.95it/s]\n",
      "100%|██████████| 20000/20000 [00:08<00:00, 2283.88it/s]\n",
      "100%|██████████| 20000/20000 [00:08<00:00, 2325.39it/s]\n",
      "100%|██████████| 20000/20000 [00:08<00:00, 2394.63it/s]\n",
      "100%|██████████| 20000/20000 [00:08<00:00, 2356.05it/s]\n",
      "100%|██████████| 20000/20000 [00:08<00:00, 2338.24it/s]\n",
      "100%|██████████| 20000/20000 [00:08<00:00, 2298.64it/s]\n",
      "100%|██████████| 20000/20000 [00:09<00:00, 2209.29it/s]\n",
      "100%|██████████| 20000/20000 [00:11<00:00, 1736.95it/s]\n",
      "100%|██████████| 20000/20000 [00:09<00:00, 2131.00it/s]\n",
      "100%|██████████| 20000/20000 [00:08<00:00, 2399.43it/s]\n",
      "100%|██████████| 20000/20000 [00:08<00:00, 2227.47it/s]\n"
     ]
    }
   ],
   "source": [
    "case1Accus = []\n",
    "case2Accus = []\n",
    "case1BayesAccus = []\n",
    "case2BayesAccus = []\n",
    "s = 1.2\n",
    "torch.manual_seed(0)\n",
    "for p in [0.5, 0.6, 0.7, 0.8, 0.9, 0.99]:\n",
    "    model = nn.Sequential(nn.Linear(d, 1), nn.Sigmoid())\n",
    "    model[0].weight.data = torch.tensor([[1.0]])\n",
    "    model[0].bias.data = torch.tensor([0.0])\n",
    "    xTarget, yTarget = gen_data2(n, d, p, shift=s)\n",
    "    model, accus = adapt(model, xTarget, yTarget)\n",
    "    case2Accus.append(evaluate(model, xTarget, yTarget))\n",
    "    case2BayesAccus.append(bayes_accuracy2(xTarget, yTarget, -s, 1, s, 1, p))\n",
    "\n",
    "    p2 = (1+2*p)/4\n",
    "    model = nn.Sequential(nn.Linear(d, 1), nn.Sigmoid())\n",
    "    model[0].weight.data = torch.tensor([[1.0]])\n",
    "    model[0].bias.data = torch.tensor([0.0])\n",
    "    xTarget, yTarget = gen_data(n, d, p2, shift=s)\n",
    "    model, accus = adapt(model, xTarget, yTarget)\n",
    "    case1Accus.append(evaluate(model, xTarget, yTarget))\n",
    "    case1BayesAccus.append(bayes_accuracy(xTarget, yTarget, -s, 1, s, 1, p2))"
   ]
  },
  {
   "cell_type": "code",
   "execution_count": 46,
   "metadata": {},
   "outputs": [
    {
     "data": {
      "text/plain": [
       "[<matplotlib.lines.Line2D at 0x7fae214b2eb0>]"
      ]
     },
     "execution_count": 46,
     "metadata": {},
     "output_type": "execute_result"
    },
    {
     "data": {
      "image/png": "[encoded data removed]",
      "text/plain": [
       "<Figure size 432x288 with 1 Axes>"
      ]
     },
     "metadata": {
      "needs_background": "light"
     },
     "output_type": "display_data"
    }
   ],
   "source": [
    "plt.plot(accus)"
   ]
  },
  {
   "cell_type": "code",
   "execution_count": 47,
   "metadata": {},
   "outputs": [
    {
     "data": {
      "text/plain": [
       "<matplotlib.legend.Legend at 0x7fae444fbd90>"
      ]
     },
     "execution_count": 47,
     "metadata": {},
     "output_type": "execute_result"
    },
    {
     "data": {
      "image/png": "[encoded data removed]",
      "text/plain": [
       "<Figure size 432x288 with 1 Axes>"
      ]
     },
     "metadata": {
      "needs_background": "light"
     },
     "output_type": "display_data"
    }
   ],
   "source": [
    "plt.plot([0.5, 0.6, 0.7, 0.8, 0.9, 0.99], case1Accus, label=\"Case 1\")\n",
    "plt.plot([0.5, 0.6, 0.7, 0.8, 0.9, 0.99], case2Accus, label=\"Case 2\")\n",
    "plt.plot([0.5, 0.6, 0.7, 0.8, 0.9, 0.99], case1BayesAccus, label=\"Case 1 Bayes\")\n",
    "plt.plot([0.5, 0.6, 0.7, 0.8, 0.9, 0.99], case2BayesAccus, label=\"Case 2 Bayes\")\n",
    "plt.xlabel(\"p for Case 2 (p for Case 1 is (1+2p)/4)\")\n",
    "plt.ylabel(\"Accuracy\")\n",
    "plt.legend()"
   ]
  },
  {
   "cell_type": "code",
   "execution_count": 48,
   "metadata": {},
   "outputs": [],
   "source": [
    "def train(model, x, y, classWeights, epochs = 1000):\n",
    "    optimizer = torch.optim.Adam(model.parameters(), lr=0.001)\n",
    "    for i in tqdm(range(epochs)):\n",
    "        optimizer.zero_grad()\n",
    "        probPreds = model(x)\n",
    "        loss = F.binary_cross_entropy(probPreds, y, weight=classWeights[y.long()])\n",
    "        loss.backward()\n",
    "        optimizer.step()\n",
    "    return model\n",
    "\n",
    "def confusion(preds, labels):\n",
    "    c = torch.zeros(2, 2)\n",
    "    for i in range(2):\n",
    "        for j in range(2):\n",
    "            c[i, j] = ((preds == i) & (labels == j)).float().sum().item()\n",
    "    return c/c.sum()\n",
    "\n",
    "def bbseEsti(model, xSource, ySource, xTarget):\n",
    "    preds = model(xSource)\n",
    "    preds = (preds > 0.5).float().detach()\n",
    "    c = confusion(preds, ySource)\n",
    "    preds = model(xTarget)\n",
    "    preds = (preds > 0.5).float().detach()\n",
    "    mu = torch.zeros(2)\n",
    "    for i in range(2):\n",
    "        mu[i] = (preds == i).float().mean().item()\n",
    "    w = torch.inverse(c) @ mu\n",
    "    return w\n",
    "\n",
    "def adaptBBSE(model, xSource, ySource, xTarget, epochs = 20000):\n",
    "    w = bbseEsti(model, xSource, ySource, xTarget)\n",
    "    classWeights = torch.tensor([w[0], w[1]])\n",
    "    model = train(model, xSource, ySource, classWeights, epochs)\n",
    "    return model"
   ]
  },
  {
   "cell_type": "code",
   "execution_count": 49,
   "metadata": {},
   "outputs": [
    {
     "name": "stderr",
     "output_type": "stream",
     "text": [
      "100%|██████████| 20000/20000 [00:08<00:00, 2275.61it/s]\n",
      "100%|██████████| 20000/20000 [00:08<00:00, 2344.94it/s]\n",
      "100%|██████████| 20000/20000 [00:08<00:00, 2339.44it/s]\n",
      "100%|██████████| 20000/20000 [00:08<00:00, 2432.52it/s]\n",
      "100%|██████████| 20000/20000 [00:08<00:00, 2458.09it/s]\n",
      "100%|██████████| 20000/20000 [00:08<00:00, 2449.71it/s]\n",
      "100%|██████████| 20000/20000 [00:08<00:00, 2462.00it/s]\n",
      "100%|██████████| 20000/20000 [00:08<00:00, 2431.77it/s]\n",
      "100%|██████████| 20000/20000 [00:08<00:00, 2412.07it/s]\n",
      "100%|██████████| 20000/20000 [00:08<00:00, 2399.27it/s]\n",
      "100%|██████████| 20000/20000 [00:08<00:00, 2449.29it/s]\n",
      "100%|██████████| 20000/20000 [00:08<00:00, 2428.68it/s]\n"
     ]
    }
   ],
   "source": [
    "case1Accus = []\n",
    "case2Accus = []\n",
    "case1BayesAccus = []\n",
    "case2BayesAccus = []\n",
    "s = 1.2\n",
    "torch.manual_seed(123)\n",
    "for p in [0.5, 0.6, 0.7, 0.8, 0.9, 0.99]:\n",
    "    model = nn.Sequential(nn.Linear(d, 1), nn.Sigmoid())\n",
    "    model[0].weight.data = torch.tensor([[1.0]])\n",
    "    model[0].bias.data = torch.tensor([0.0])\n",
    "    xSource, ySource = gen_data2(n, d, .5, shift = s)\n",
    "    xTarget, yTarget = gen_data2(n, d, p, shift = s)\n",
    "    model = adaptBBSE(model, xSource, ySource, xTarget)\n",
    "    case2Accus.append(evaluate(model, xTarget, yTarget))\n",
    "    case2BayesAccus.append(bayes_accuracy2(xTarget, yTarget, -s, 1, s, 1, p))\n",
    "\n",
    "    p2 = (1+2*p)/4\n",
    "    model = nn.Sequential(nn.Linear(d, 1), nn.Sigmoid())\n",
    "    model[0].weight.data = torch.tensor([[1.0]])\n",
    "    model[0].bias.data = torch.tensor([0.0])\n",
    "    xSource, ySource = gen_data(n, d, .5, shift = s)\n",
    "    xTarget, yTarget = gen_data(n, d, p2, shift = s)\n",
    "    model = adaptBBSE(model, xSource, ySource, xTarget)\n",
    "    case1Accus.append(evaluate(model, xTarget, yTarget))\n",
    "    case1BayesAccus.append(bayes_accuracy(xTarget, yTarget, -s, 1, s, 1, p2))"
   ]
  },
  {
   "cell_type": "code",
   "execution_count": 50,
   "metadata": {},
   "outputs": [
    {
     "data": {
      "text/plain": [
       "<matplotlib.legend.Legend at 0x7fae215a0a30>"
      ]
     },
     "execution_count": 50,
     "metadata": {},
     "output_type": "execute_result"
    },
    {
     "data": {
      "image/png": "[encoded data removed]",
      "text/plain": [
       "<Figure size 432x288 with 1 Axes>"
      ]
     },
     "metadata": {
      "needs_background": "light"
     },
     "output_type": "display_data"
    }
   ],
   "source": [
    "plt.plot([0.5, 0.6, 0.7, 0.8, 0.9, 0.99], case1Accus, label=\"Case 1\")\n",
    "plt.plot([0.5, 0.6, 0.7, 0.8, 0.9, 0.99], case2Accus, label=\"Case 2\")\n",
    "plt.plot([0.5, 0.6, 0.7, 0.8, 0.9, 0.99], case1BayesAccus, label=\"Case 1 Bayes\")\n",
    "plt.plot([0.5, 0.6, 0.7, 0.8, 0.9, 0.99], case2BayesAccus, label=\"Case 2 Bayes\")\n",
    "plt.xlabel(\"p for Case 2 (p for Case 1 is (1+2p)/4)\")\n",
    "plt.ylabel(\"Accuracy\")\n",
    "plt.legend()"
   ]
  },
  {
   "cell_type": "code",
   "execution_count": 78,
   "metadata": {},
   "outputs": [],
   "source": [
    "xSource, ySource = gen_data2(1000, 1, 0.5)\n",
    "xTarget, yTarget = gen_data2(1000, 1, 0.8)"
   ]
  },
  {
   "cell_type": "code",
   "execution_count": 79,
   "metadata": {},
   "outputs": [],
   "source": [
    "model = nn.Sequential(nn.Linear(1, 1), nn.Sigmoid())\n",
    "model[0].weight.data = torch.tensor([[1.0]])\n",
    "model[0].bias.data = torch.tensor([0.0])"
   ]
  },
  {
   "cell_type": "code",
   "execution_count": 80,
   "metadata": {},
   "outputs": [
    {
     "data": {
      "text/plain": [
       "(0.6449999809265137, 0.6710000038146973)"
      ]
     },
     "execution_count": 80,
     "metadata": {},
     "output_type": "execute_result"
    }
   ],
   "source": [
    "evaluate(model, xSource, ySource), evaluate(model, xTarget, yTarget)"
   ]
  },
  {
   "cell_type": "code",
   "execution_count": 81,
   "metadata": {},
   "outputs": [
    {
     "name": "stderr",
     "output_type": "stream",
     "text": [
      "100%|██████████| 1000/1000 [00:00<00:00, 3813.84it/s]\n"
     ]
    }
   ],
   "source": [
    "# w = bbseEsti(model, xSource, ySource, xTarget)\n",
    "model = train(model, xSource, ySource, w)"
   ]
  },
  {
   "cell_type": "code",
   "execution_count": 82,
   "metadata": {},
   "outputs": [
    {
     "data": {
      "text/plain": [
       "(0.5429999828338623, 0.7860000133514404)"
      ]
     },
     "execution_count": 82,
     "metadata": {},
     "output_type": "execute_result"
    }
   ],
   "source": [
    "evaluate(model, xSource, ySource), evaluate(model, xTarget, yTarget)"
   ]
  },
  {
   "cell_type": "code",
   "execution_count": null,
   "metadata": {},
   "outputs": [],
   "source": []
  }
 ],
 "metadata": {
  "kernelspec": {
   "display_name": "base",
   "language": "python",
   "name": "python3"
  },
  "language_info": {
   "codemirror_mode": {
    "name": "ipython",
    "version": 3
   },
   "file_extension": ".py",
   "mimetype": "text/x-python",
   "name": "python",
   "nbconvert_exporter": "python",
   "pygments_lexer": "ipython3",
   "version": "3.9.12"
  },
  "orig_nbformat": 4,
  "vscode": {
   "interpreter": {
    "hash": "1fe8eaf950b0cf64c1b70de22759d9a144a2595c541b4003711edd1f96d908e5"
   }
  }
 },
 "nbformat": 4,
 "nbformat_minor": 2
}
