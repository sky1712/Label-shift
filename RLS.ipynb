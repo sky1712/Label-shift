{
 "cells": [
  {
   "cell_type": "code",
   "execution_count": 1,
   "metadata": {},
   "outputs": [],
   "source": [
    "import torch\n",
    "import torch.nn as nn\n",
    "import torch.nn.functional as F\n",
    "import matplotlib.pyplot as plt\n",
    "import numpy as np\n",
    "from tqdm import tqdm\n",
    "import collections\n",
    "import copy\n",
    "import numpy as np\n",
    "from scipy.stats import ortho_group"
   ]
  },
  {
   "cell_type": "code",
   "execution_count": 2,
   "metadata": {},
   "outputs": [],
   "source": [
    "def sample_gaussian(mu, var, n):\n",
    "    return np.random.multivariate_normal(mu, var, n)"
   ]
  },
  {
   "cell_type": "code",
   "execution_count": 3,
   "metadata": {},
   "outputs": [],
   "source": [
    "def sample_source_and_target_params(min_var, max_var, dim=2):\n",
    "    '''\n",
    "    Returns the mean and variance of eaach class in the source and target distributions.\n",
    "    '''\n",
    "    mus = []\n",
    "    vars = []\n",
    "    for i in range(4):\n",
    "        mu = np.random.multivariate_normal(np.zeros(dim), np.eye(dim))\n",
    "        mu = mu / np.linalg.norm(mu)\n",
    "        mus.append(mu)\n",
    "        var_diag = np.diag(np.random.uniform(min_var, max_var, dim))\n",
    "        rot_mat = ortho_group.rvs(dim)\n",
    "        var = rot_mat.T @ var_diag @ rot_mat\n",
    "        vars.append(var)\n",
    "    return np.array(mus), np.array(vars)"
   ]
  },
  {
   "cell_type": "code",
   "execution_count": 4,
   "metadata": {},
   "outputs": [],
   "source": [
    "def sample_fixed_params(mus, vars, n, p):\n",
    "    '''\n",
    "    Samples n points from a mixture of two gaussians with means mus[0] and mus[1] and \n",
    "    variances vars[0] and vars[1] with probability p of being from the second gaussian.\n",
    "    '''\n",
    "    # sample labels 0 and 1 with 1 having probability p\n",
    "    labels = np.random.binomial(1, p, n)\n",
    "    # sample from the corresponding gaussian\n",
    "    ones = sample_gaussian(mus[1], vars[1], n)\n",
    "    zeros = sample_gaussian(mus[0], vars[0], n)\n",
    "    samples = np.zeros((n, mus.shape[1]))\n",
    "    samples[labels == 1] = ones[labels == 1]\n",
    "    samples[labels == 0] = zeros[labels == 0]\n",
    "    return torch.tensor(np.array(samples), dtype=torch.float32), torch.tensor(labels, dtype=torch.float32)"
   ]
  },
  {
   "cell_type": "code",
   "execution_count": 5,
   "metadata": {},
   "outputs": [],
   "source": [
    "def sample_intermediate_params(source_mus, source_vars, target_mus, target_vars, n, b, p):\n",
    "    '''\n",
    "    n-> number of time steps\n",
    "    b-> number of samples for each time step\n",
    "    p-> probability of sampling from the second gaussian\n",
    "    '''\n",
    "    # sample labels 0 and 1 with 1 having probability p\n",
    "    samples = []\n",
    "    labels = []\n",
    "    for i in range(n):\n",
    "        alpha = i / n\n",
    "        label = np.random.binomial(1, p[i], b)\n",
    "        mus = (1 - alpha) * source_mus + alpha * target_mus\n",
    "        vars = (1 - alpha) * source_vars + alpha * target_vars\n",
    "        # sample from the corresponding gaussian\n",
    "        ones = sample_gaussian(mus[1], vars[1], b)\n",
    "        zeros = sample_gaussian(mus[0], vars[0], b)\n",
    "        sample = np.zeros((b, dim))\n",
    "        sample[label == 1] = ones[label == 1]\n",
    "        sample[label == 0] = zeros[label == 0]\n",
    "        labels.append(label)\n",
    "        samples.append(sample)\n",
    "    return torch.tensor(np.array(samples), dtype=torch.float32), torch.tensor(np.array(labels), dtype=torch.float32)"
   ]
  },
  {
   "cell_type": "code",
   "execution_count": 6,
   "metadata": {},
   "outputs": [],
   "source": [
    "def evaluate_model(model, xs, ys):\n",
    "    '''\n",
    "    Returns the accuracy of the model on the given data.\n",
    "    '''\n",
    "    model.eval()\n",
    "    with torch.no_grad():\n",
    "        pred = model(xs)\n",
    "        pred = pred.squeeze()\n",
    "        pred[pred > 0.5] = 1\n",
    "        pred[pred <= 0.5] = 0\n",
    "        acc = (pred == ys).sum().item() / ys.size(0)\n",
    "    return acc"
   ]
  },
  {
   "cell_type": "code",
   "execution_count": 7,
   "metadata": {},
   "outputs": [],
   "source": [
    "class BayesModel(nn.Module):\n",
    "    def __init__(self, dim):\n",
    "        super().__init__()\n",
    "        self.fc1 = nn.Linear(dim, 256)\n",
    "        self.fc3 = nn.Linear(256, 1)\n",
    "    def forward(self, x):\n",
    "        x = F.relu(self.fc1(x))\n",
    "        x = torch.sigmoid(self.fc3(x))\n",
    "        return x"
   ]
  },
  {
   "cell_type": "code",
   "execution_count": 8,
   "metadata": {},
   "outputs": [],
   "source": [
    "# create a linear traininable model\n",
    "class LogisticRegression(nn.Module):\n",
    "    def __init__(self, dim):\n",
    "        super(LogisticRegression, self).__init__()\n",
    "        self.fc = nn.Linear(dim, 1)\n",
    "\n",
    "    def forward(self, x):\n",
    "        x = self.fc(x)\n",
    "        x = torch.sigmoid(x)\n",
    "        return x"
   ]
  },
  {
   "cell_type": "code",
   "execution_count": 9,
   "metadata": {},
   "outputs": [],
   "source": [
    "def train_on_source(model, xSourceTrain, ySourceTrain, epochs=1000, lr=0.01):\n",
    "    '''\n",
    "    Trains the input model on the input data. \n",
    "    Adam is used as the optimizer since using SGD convergence is very slow.\n",
    "    '''\n",
    "    optimizer = torch.optim.Adam(model.parameters(), lr=lr)\n",
    "    for epoch in range(epochs):\n",
    "        model.train()\n",
    "        optimizer.zero_grad()\n",
    "        pred = model(xSourceTrain)\n",
    "        loss = F.binary_cross_entropy(pred.squeeze(), ySourceTrain)\n",
    "        loss.backward()\n",
    "        optimizer.step()"
   ]
  },
  {
   "cell_type": "code",
   "execution_count": 10,
   "metadata": {},
   "outputs": [],
   "source": [
    "def adapt1(model, xs, epochs=1000, lr=0.01):\n",
    "    '''\n",
    "    Unsupervised adaptation of the input model on the input data.\n",
    "    '''\n",
    "    optimizer = torch.optim.Adam(model.parameters(), lr=lr)\n",
    "    criterion = nn.BCELoss()\n",
    "    for epoch in range(epochs):\n",
    "        optimizer.zero_grad()\n",
    "        yPred = model(xs)\n",
    "        predLabels = (yPred > 0.5).float()\n",
    "        loss = criterion(yPred, predLabels.detach())\n",
    "        loss.backward()\n",
    "        optimizer.step()\n",
    "        # if epoch % 100 == 0:\n",
    "        #     print('Epoch {}, loss {}'.format(epoch, loss.item()))"
   ]
  },
  {
   "cell_type": "code",
   "execution_count": 11,
   "metadata": {},
   "outputs": [],
   "source": [
    "np.random.seed(1000)\n",
    "torch.manual_seed(0)\n",
    "\n",
    "dim, nInterSteps, bTrain, bTest, bInter, pSource, pTarget = 400, 100, 10, 10000, 1, 0.5, 0.9\n",
    "\n",
    "mus, vars = sample_source_and_target_params(0.05, 0.1, dim)         # samples mean and variance for each class in source and target\n",
    "source_means = mus[:2]\n",
    "source_vars = vars[:2]\n",
    "target_means = mus[2:]\n",
    "target_vars = vars[2:]\n",
    "xSourceTrain, ySourceTrain = sample_fixed_params(source_means, source_vars, bTrain, pSource)    # samples training points from source\n",
    "xSourceVal, ySourceVal = sample_fixed_params(source_means, source_vars, bTest, pSource)         # samples validation points from source\n",
    "xSourceTest, ySourceTest = sample_fixed_params(source_means, source_vars, bTest, pSource)       # samples test points from source\n",
    "xTargetTrain, yTargetTrain = sample_fixed_params(target_means, target_vars, bTrain, pTarget)    # samples training points from target\n",
    "xTargetVal, yTargetVal = sample_fixed_params(target_means, target_vars, bTest, pTarget)         # samples validation points from target\n",
    "xTargetTest, yTargetTest = sample_fixed_params(target_means, target_vars, bTest, pTarget)       # samples test points from target\n",
    "xInter, yInter = sample_intermediate_params(source_means, source_vars, target_means, target_vars, nInterSteps, bInter, np.linspace(pSource, pTarget, nInterSteps))  # samples intermediate points"
   ]
  },
  {
   "cell_type": "code",
   "execution_count": 12,
   "metadata": {},
   "outputs": [
    {
     "name": "stdout",
     "output_type": "stream",
     "text": [
      "Bayes accuracy for source: 0.9904\n"
     ]
    }
   ],
   "source": [
    "model = BayesModel(dim)\n",
    "train_on_source(model, xSourceVal, ySourceVal)\n",
    "sourceTestAcc = evaluate_model(model, xSourceTest, ySourceTest)\n",
    "print(\"Bayes accuracy for source:\", sourceTestAcc)"
   ]
  },
  {
   "cell_type": "code",
   "execution_count": 13,
   "metadata": {},
   "outputs": [
    {
     "name": "stdout",
     "output_type": "stream",
     "text": [
      "Bayes accuracy of target: 0.9953\n"
     ]
    }
   ],
   "source": [
    "model = BayesModel(dim)\n",
    "train_on_source(model, xTargetVal, yTargetVal)\n",
    "targetTestAcc = evaluate_model(model, xTargetTest, yTargetTest)\n",
    "print(\"Bayes accuracy of target:\", targetTestAcc)"
   ]
  },
  {
   "cell_type": "code",
   "execution_count": 14,
   "metadata": {},
   "outputs": [
    {
     "name": "stdout",
     "output_type": "stream",
     "text": [
      "When logisic regression is trained on source:\n",
      "Source train acc 1.0, source val acc 0.7867, source test acc 0.79, target train acc 0.4, target val acc 0.5195, target test acc 0.5176\n"
     ]
    }
   ],
   "source": [
    "model = LogisticRegression(dim)\n",
    "train_on_source(model, xSourceTrain, ySourceTrain)\n",
    "sourceTrainAcc = evaluate_model(model, xSourceTrain, ySourceTrain)\n",
    "sourceValAcc = evaluate_model(model, xSourceVal, ySourceVal)\n",
    "sourceTestAcc = evaluate_model(model, xSourceTest, ySourceTest)\n",
    "targetTrainAcc = evaluate_model(model, xTargetTrain, yTargetTrain)\n",
    "targetValAcc = evaluate_model(model, xTargetVal, yTargetVal)\n",
    "targetTestAcc = evaluate_model(model, xTargetTest, yTargetTest)\n",
    "print(\"When logisic regression is trained on source:\")\n",
    "print('Source train acc {}, source val acc {}, source test acc {}, target train acc {}, target val acc {}, target test acc {}'.format(sourceTrainAcc, sourceValAcc, sourceTestAcc, targetTrainAcc, targetValAcc, targetTestAcc))"
   ]
  },
  {
   "cell_type": "code",
   "execution_count": 15,
   "metadata": {},
   "outputs": [
    {
     "name": "stdout",
     "output_type": "stream",
     "text": [
      "When logisiic regression is trained on target data:\n",
      "Target train acc 1.0, target val acc 0.9161, target test acc 0.9191\n"
     ]
    }
   ],
   "source": [
    "model = LogisticRegression(dim)\n",
    "train_on_source(model, xTargetTrain, yTargetTrain)\n",
    "targetTrainAcc = evaluate_model(model, xTargetTrain, yTargetTrain)\n",
    "targetValAcc = evaluate_model(model, xTargetVal, yTargetVal)\n",
    "targetTestAcc = evaluate_model(model, xTargetTest, yTargetTest)\n",
    "print(\"When logisiic regression is trained on target data:\")\n",
    "print('Target train acc {}, target val acc {}, target test acc {}'.format(targetTrainAcc, targetValAcc, targetTestAcc))"
   ]
  },
  {
   "cell_type": "code",
   "execution_count": 16,
   "metadata": {},
   "outputs": [
    {
     "name": "stdout",
     "output_type": "stream",
     "text": [
      "Source train acc 1.0, source val acc 0.7735, source test acc 0.7777, target train acc 0.4, target val acc 0.5345, target test acc 0.5368\n",
      "****************** INTER 0 ****************\n",
      "Source train acc 1.0, source val acc 0.7183, target train acc 0.4, target val acc 0.5619\n",
      "****************** INTER 1 ****************\n",
      "Source train acc 1.0, source val acc 0.7187, target train acc 0.7, target val acc 0.5897\n",
      "****************** INTER 2 ****************\n",
      "Source train acc 1.0, source val acc 0.7114, target train acc 0.7, target val acc 0.5836\n",
      "****************** INTER 3 ****************\n",
      "Source train acc 1.0, source val acc 0.7107, target train acc 0.6, target val acc 0.5959\n",
      "****************** INTER 4 ****************\n",
      "Source train acc 1.0, source val acc 0.7122, target train acc 0.7, target val acc 0.5989\n",
      "****************** INTER 5 ****************\n",
      "Source train acc 1.0, source val acc 0.6994, target train acc 0.8, target val acc 0.6229\n",
      "****************** INTER 6 ****************\n",
      "Source train acc 1.0, source val acc 0.6913, target train acc 0.8, target val acc 0.6411\n",
      "****************** INTER 7 ****************\n",
      "Source train acc 1.0, source val acc 0.7049, target train acc 0.8, target val acc 0.6141\n",
      "****************** INTER 8 ****************\n",
      "Source train acc 1.0, source val acc 0.6767, target train acc 0.7, target val acc 0.6441\n",
      "****************** INTER 9 ****************\n",
      "Source train acc 1.0, source val acc 0.6564, target train acc 0.7, target val acc 0.6514\n",
      "****************** INTER 10 ****************\n",
      "Source train acc 1.0, source val acc 0.6489, target train acc 0.7, target val acc 0.6441\n",
      "****************** INTER 11 ****************\n",
      "Source train acc 1.0, source val acc 0.6335, target train acc 0.6, target val acc 0.6511\n",
      "****************** INTER 12 ****************\n",
      "Source train acc 1.0, source val acc 0.6628, target train acc 0.5, target val acc 0.6418\n",
      "****************** INTER 13 ****************\n",
      "Source train acc 1.0, source val acc 0.6863, target train acc 0.5, target val acc 0.6261\n",
      "****************** INTER 14 ****************\n",
      "Source train acc 1.0, source val acc 0.7046, target train acc 0.5, target val acc 0.6153\n",
      "****************** INTER 15 ****************\n",
      "Source train acc 1.0, source val acc 0.7216, target train acc 0.5, target val acc 0.585\n",
      "****************** INTER 16 ****************\n",
      "Source train acc 1.0, source val acc 0.6991, target train acc 0.5, target val acc 0.5813\n",
      "****************** INTER 17 ****************\n",
      "Source train acc 1.0, source val acc 0.6847, target train acc 0.5, target val acc 0.5812\n",
      "****************** INTER 18 ****************\n",
      "Source train acc 1.0, source val acc 0.6822, target train acc 0.5, target val acc 0.5768\n",
      "****************** INTER 19 ****************\n",
      "Source train acc 1.0, source val acc 0.7041, target train acc 0.5, target val acc 0.5564\n",
      "****************** INTER 20 ****************\n",
      "Source train acc 1.0, source val acc 0.685, target train acc 0.5, target val acc 0.5602\n",
      "****************** INTER 21 ****************\n",
      "Source train acc 1.0, source val acc 0.6577, target train acc 0.4, target val acc 0.5842\n",
      "****************** INTER 22 ****************\n",
      "Source train acc 1.0, source val acc 0.6388, target train acc 0.6, target val acc 0.6079\n",
      "****************** INTER 23 ****************\n",
      "Source train acc 1.0, source val acc 0.6329, target train acc 0.6, target val acc 0.6195\n",
      "****************** INTER 24 ****************\n",
      "Source train acc 1.0, source val acc 0.6294, target train acc 0.6, target val acc 0.6319\n",
      "****************** INTER 25 ****************\n",
      "Source train acc 1.0, source val acc 0.6192, target train acc 0.6, target val acc 0.651\n",
      "****************** INTER 26 ****************\n",
      "Source train acc 1.0, source val acc 0.6186, target train acc 0.7, target val acc 0.6729\n",
      "****************** INTER 27 ****************\n",
      "Source train acc 1.0, source val acc 0.615, target train acc 0.7, target val acc 0.6872\n",
      "****************** INTER 28 ****************\n",
      "Source train acc 1.0, source val acc 0.6088, target train acc 0.7, target val acc 0.6966\n",
      "****************** INTER 29 ****************\n",
      "Source train acc 1.0, source val acc 0.606, target train acc 0.7, target val acc 0.6914\n",
      "****************** INTER 30 ****************\n",
      "Source train acc 1.0, source val acc 0.5974, target train acc 0.7, target val acc 0.7061\n",
      "****************** INTER 31 ****************\n",
      "Source train acc 0.9, source val acc 0.5987, target train acc 0.7, target val acc 0.7224\n",
      "****************** INTER 32 ****************\n",
      "Source train acc 0.9, source val acc 0.5963, target train acc 0.7, target val acc 0.7161\n",
      "****************** INTER 33 ****************\n",
      "Source train acc 0.9, source val acc 0.5983, target train acc 0.7, target val acc 0.7211\n",
      "****************** INTER 34 ****************\n",
      "Source train acc 0.9, source val acc 0.5934, target train acc 0.7, target val acc 0.7294\n",
      "****************** INTER 35 ****************\n",
      "Source train acc 0.9, source val acc 0.6002, target train acc 0.7, target val acc 0.7305\n",
      "****************** INTER 36 ****************\n",
      "Source train acc 0.9, source val acc 0.599, target train acc 0.7, target val acc 0.7402\n",
      "****************** INTER 37 ****************\n",
      "Source train acc 0.9, source val acc 0.6125, target train acc 0.7, target val acc 0.7393\n",
      "****************** INTER 38 ****************\n",
      "Source train acc 0.9, source val acc 0.6126, target train acc 0.8, target val acc 0.7475\n",
      "****************** INTER 39 ****************\n",
      "Source train acc 0.9, source val acc 0.6158, target train acc 0.8, target val acc 0.7336\n",
      "****************** INTER 40 ****************\n",
      "Source train acc 0.9, source val acc 0.6095, target train acc 0.8, target val acc 0.7245\n",
      "****************** INTER 41 ****************\n",
      "Source train acc 0.9, source val acc 0.5978, target train acc 0.7, target val acc 0.7262\n",
      "****************** INTER 42 ****************\n",
      "Source train acc 0.9, source val acc 0.5966, target train acc 0.7, target val acc 0.7354\n",
      "****************** INTER 43 ****************\n",
      "Source train acc 0.9, source val acc 0.5997, target train acc 0.8, target val acc 0.7477\n",
      "****************** INTER 44 ****************\n",
      "Source train acc 0.9, source val acc 0.5958, target train acc 0.8, target val acc 0.7575\n",
      "****************** INTER 45 ****************\n",
      "Source train acc 0.9, source val acc 0.5985, target train acc 0.8, target val acc 0.7636\n",
      "****************** INTER 46 ****************\n",
      "Source train acc 0.9, source val acc 0.5971, target train acc 0.8, target val acc 0.7725\n",
      "****************** INTER 47 ****************\n",
      "Source train acc 0.9, source val acc 0.5904, target train acc 0.8, target val acc 0.7707\n",
      "****************** INTER 48 ****************\n",
      "Source train acc 0.9, source val acc 0.5892, target train acc 0.8, target val acc 0.7736\n",
      "****************** INTER 49 ****************\n",
      "Source train acc 0.9, source val acc 0.586, target train acc 0.8, target val acc 0.7758\n",
      "****************** INTER 50 ****************\n",
      "Source train acc 0.8, source val acc 0.5822, target train acc 0.8, target val acc 0.7806\n",
      "****************** INTER 51 ****************\n",
      "Source train acc 0.8, source val acc 0.579, target train acc 0.8, target val acc 0.7751\n",
      "****************** INTER 52 ****************\n",
      "Source train acc 0.8, source val acc 0.5747, target train acc 0.8, target val acc 0.7732\n",
      "****************** INTER 53 ****************\n",
      "Source train acc 0.8, source val acc 0.5721, target train acc 0.8, target val acc 0.7794\n",
      "****************** INTER 54 ****************\n",
      "Source train acc 0.8, source val acc 0.5695, target train acc 0.8, target val acc 0.7746\n",
      "****************** INTER 55 ****************\n",
      "Source train acc 0.8, source val acc 0.5626, target train acc 0.7, target val acc 0.7758\n",
      "****************** INTER 56 ****************\n",
      "Source train acc 0.8, source val acc 0.5605, target train acc 0.7, target val acc 0.7783\n",
      "****************** INTER 57 ****************\n",
      "Source train acc 0.8, source val acc 0.5605, target train acc 0.7, target val acc 0.7783\n",
      "****************** INTER 58 ****************\n",
      "Source train acc 0.8, source val acc 0.5644, target train acc 0.7, target val acc 0.7723\n",
      "****************** INTER 59 ****************\n",
      "Source train acc 0.8, source val acc 0.5597, target train acc 0.6, target val acc 0.7736\n",
      "****************** INTER 60 ****************\n",
      "Source train acc 0.8, source val acc 0.5597, target train acc 0.6, target val acc 0.7736\n",
      "****************** INTER 61 ****************\n",
      "Source train acc 0.8, source val acc 0.5587, target train acc 0.7, target val acc 0.7842\n",
      "****************** INTER 62 ****************\n",
      "Source train acc 0.8, source val acc 0.5592, target train acc 0.7, target val acc 0.7983\n",
      "****************** INTER 63 ****************\n",
      "Source train acc 0.8, source val acc 0.5559, target train acc 0.7, target val acc 0.8018\n",
      "****************** INTER 64 ****************\n",
      "Source train acc 0.7, source val acc 0.5547, target train acc 0.7, target val acc 0.8056\n",
      "****************** INTER 65 ****************\n",
      "Source train acc 0.7, source val acc 0.5585, target train acc 0.7, target val acc 0.8189\n",
      "****************** INTER 66 ****************\n",
      "Source train acc 0.7, source val acc 0.554, target train acc 0.7, target val acc 0.8174\n",
      "****************** INTER 67 ****************\n",
      "Source train acc 0.7, source val acc 0.5509, target train acc 0.7, target val acc 0.8181\n",
      "****************** INTER 68 ****************\n",
      "Source train acc 0.7, source val acc 0.5509, target train acc 0.7, target val acc 0.8181\n",
      "****************** INTER 69 ****************\n",
      "Source train acc 0.7, source val acc 0.5494, target train acc 0.7, target val acc 0.8216\n",
      "****************** INTER 70 ****************\n",
      "Source train acc 0.7, source val acc 0.5482, target train acc 0.7, target val acc 0.8257\n",
      "****************** INTER 71 ****************\n",
      "Source train acc 0.7, source val acc 0.5476, target train acc 0.8, target val acc 0.8319\n",
      "****************** INTER 72 ****************\n",
      "Source train acc 0.7, source val acc 0.5476, target train acc 0.8, target val acc 0.8319\n",
      "****************** INTER 73 ****************\n",
      "Source train acc 0.7, source val acc 0.5441, target train acc 0.8, target val acc 0.8303\n",
      "****************** INTER 74 ****************\n",
      "Source train acc 0.7, source val acc 0.5436, target train acc 0.8, target val acc 0.8333\n",
      "****************** INTER 75 ****************\n",
      "Source train acc 0.7, source val acc 0.5447, target train acc 0.8, target val acc 0.8337\n",
      "****************** INTER 76 ****************\n",
      "Source train acc 0.7, source val acc 0.5451, target train acc 0.8, target val acc 0.8403\n",
      "****************** INTER 77 ****************\n",
      "Source train acc 0.7, source val acc 0.5441, target train acc 0.8, target val acc 0.845\n",
      "****************** INTER 78 ****************\n",
      "Source train acc 0.7, source val acc 0.5441, target train acc 0.8, target val acc 0.8486\n",
      "****************** INTER 79 ****************\n",
      "Source train acc 0.7, source val acc 0.5446, target train acc 0.8, target val acc 0.8542\n",
      "****************** INTER 80 ****************\n",
      "Source train acc 0.7, source val acc 0.5446, target train acc 0.8, target val acc 0.8542\n",
      "****************** INTER 81 ****************\n",
      "Source train acc 0.6, source val acc 0.5456, target train acc 0.8, target val acc 0.859\n",
      "****************** INTER 82 ****************\n",
      "Source train acc 0.6, source val acc 0.5456, target train acc 0.8, target val acc 0.859\n",
      "****************** INTER 83 ****************\n",
      "Source train acc 0.6, source val acc 0.5449, target train acc 0.8, target val acc 0.8645\n",
      "****************** INTER 84 ****************\n",
      "Source train acc 0.6, source val acc 0.542, target train acc 0.8, target val acc 0.8676\n",
      "****************** INTER 85 ****************\n",
      "Source train acc 0.6, source val acc 0.542, target train acc 0.8, target val acc 0.8697\n",
      "****************** INTER 86 ****************\n",
      "Source train acc 0.6, source val acc 0.541, target train acc 0.8, target val acc 0.8715\n",
      "****************** INTER 87 ****************\n",
      "Source train acc 0.6, source val acc 0.54, target train acc 0.8, target val acc 0.8717\n",
      "****************** INTER 88 ****************\n",
      "Source train acc 0.6, source val acc 0.5389, target train acc 0.8, target val acc 0.8767\n",
      "****************** INTER 89 ****************\n",
      "Source train acc 0.6, source val acc 0.539, target train acc 0.8, target val acc 0.8802\n",
      "****************** INTER 90 ****************\n",
      "Source train acc 0.6, source val acc 0.539, target train acc 0.8, target val acc 0.8802\n",
      "****************** INTER 91 ****************\n",
      "Source train acc 0.6, source val acc 0.5402, target train acc 0.8, target val acc 0.8817\n",
      "****************** INTER 92 ****************\n",
      "Source train acc 0.6, source val acc 0.5402, target train acc 0.8, target val acc 0.8817\n",
      "****************** INTER 93 ****************\n",
      "Source train acc 0.6, source val acc 0.5391, target train acc 0.8, target val acc 0.8829\n",
      "****************** INTER 94 ****************\n",
      "Source train acc 0.6, source val acc 0.5397, target train acc 0.8, target val acc 0.8846\n",
      "****************** INTER 95 ****************\n",
      "Source train acc 0.6, source val acc 0.5397, target train acc 0.8, target val acc 0.8846\n",
      "****************** INTER 96 ****************\n",
      "Source train acc 0.6, source val acc 0.5397, target train acc 0.8, target val acc 0.8846\n",
      "****************** INTER 97 ****************\n",
      "Source train acc 0.6, source val acc 0.5397, target train acc 0.8, target val acc 0.8846\n",
      "****************** INTER 98 ****************\n",
      "Source train acc 0.6, source val acc 0.5397, target train acc 0.8, target val acc 0.8846\n",
      "****************** INTER 99 ****************\n",
      "Source train acc 0.6, source val acc 0.5411, target train acc 0.8, target val acc 0.8863\n",
      "Target test acc 0.8836\n"
     ]
    }
   ],
   "source": [
    "model = LogisticRegression(dim)\n",
    "\n",
    "train_on_source(model, xSourceTrain, ySourceTrain)\n",
    "\n",
    "sourceTrainAcc = evaluate_model(model, xSourceTrain, ySourceTrain)\n",
    "sourceValAcc = evaluate_model(model, xSourceVal, ySourceVal)\n",
    "sourceTestAcc = evaluate_model(model, xSourceTest, ySourceTest)\n",
    "targetTrainAcc = evaluate_model(model, xTargetTrain, yTargetTrain)\n",
    "targetValAcc = evaluate_model(model, xTargetVal, yTargetVal)\n",
    "targetTestAcc = evaluate_model(model, xTargetTest, yTargetTest)\n",
    "print('Source train acc {}, source val acc {}, source test acc {}, target train acc {}, target val acc {}, target test acc {}'.format(sourceTrainAcc, sourceValAcc, sourceTestAcc, targetTrainAcc, targetValAcc, targetTestAcc))\n",
    "\n",
    "accus = []\n",
    "for i in range(nInterSteps):\n",
    "    print(\"****************** INTER\",i,\"****************\")\n",
    "    xInterTrain, yInterTrain = xInter[i], yInter[i]\n",
    "    adapt1(model, xInterTrain, epochs = 1000)\n",
    "    sourceTrainAcc = evaluate_model(model, xSourceTrain, ySourceTrain)\n",
    "    sourceValAcc = evaluate_model(model, xSourceVal, ySourceVal)\n",
    "    targetTrainAcc = evaluate_model(model, xTargetTrain, yTargetTrain)\n",
    "    targetValAcc = evaluate_model(model, xTargetVal, yTargetVal)\n",
    "    accus.append(targetValAcc)\n",
    "    print('Source train acc {}, source val acc {}, target train acc {}, target val acc {}'.format(sourceTrainAcc, sourceValAcc, targetTrainAcc, targetValAcc))\n",
    "targetTestAcc = evaluate_model(model, xTargetTest, yTargetTest)\n",
    "print('Target test acc {}'.format(targetTestAcc))"
   ]
  },
  {
   "cell_type": "code",
   "execution_count": 17,
   "metadata": {},
   "outputs": [],
   "source": [
    "def combine_inter_and_target(xInter, yInter, xTarget, yTarget):\n",
    "    xInter = xInter.reshape(-1, dim)\n",
    "    yInter = yInter.reshape(-1)\n",
    "    xTarget = xTarget.reshape(-1, dim)\n",
    "    yTarget = yTarget.reshape(-1)\n",
    "    x = torch.cat((xInter, xTarget), 0)\n",
    "    y = torch.cat((yInter, yTarget), 0)\n",
    "    return x, y"
   ]
  },
  {
   "cell_type": "code",
   "execution_count": 28,
   "metadata": {},
   "outputs": [],
   "source": [
    "skip = 50\n",
    "xComb, yComb = combine_inter_and_target(xInter[skip:], yInter[skip:], xTargetTrain, yTargetTrain)"
   ]
  },
  {
   "cell_type": "code",
   "execution_count": 29,
   "metadata": {},
   "outputs": [
    {
     "name": "stdout",
     "output_type": "stream",
     "text": [
      "When logisic regression is trained on intermediate and target data while skipping the first 50 intermediate steps:\n",
      "Target test acc 0.9482\n"
     ]
    }
   ],
   "source": [
    "model = LogisticRegression(dim)\n",
    "train_on_source(model, xComb, yComb)\n",
    "targetTestAcc = evaluate_model(model, xTargetTest, yTargetTest)\n",
    "print('When logisic regression is trained on intermediate and target data while skipping the first {} intermediate steps:'.format(skip))\n",
    "print('Target test acc {}'.format(targetTestAcc))"
   ]
  },
  {
   "cell_type": "code",
   "execution_count": null,
   "metadata": {},
   "outputs": [],
   "source": []
  },
  {
   "cell_type": "code",
   "execution_count": null,
   "metadata": {},
   "outputs": [],
   "source": []
  }
 ],
 "metadata": {
  "kernelspec": {
   "display_name": "base",
   "language": "python",
   "name": "python3"
  },
  "language_info": {
   "codemirror_mode": {
    "name": "ipython",
    "version": 3
   },
   "file_extension": ".py",
   "mimetype": "text/x-python",
   "name": "python",
   "nbconvert_exporter": "python",
   "pygments_lexer": "ipython3",
   "version": "3.9.12"
  },
  "orig_nbformat": 4,
  "vscode": {
   "interpreter": {
    "hash": "1fe8eaf950b0cf64c1b70de22759d9a144a2595c541b4003711edd1f96d908e5"
   }
  }
 },
 "nbformat": 4,
 "nbformat_minor": 2
}
