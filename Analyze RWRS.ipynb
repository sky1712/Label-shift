{
 "cells": [
  {
   "cell_type": "code",
   "execution_count": 16,
   "metadata": {},
   "outputs": [],
   "source": [
    "import torch\n",
    "import torch.nn as nn\n",
    "import torch.nn.functional as F\n",
    "import numpy as np\n",
    "import matplotlib.pyplot as plt"
   ]
  },
  {
   "cell_type": "code",
   "execution_count": 3,
   "metadata": {},
   "outputs": [],
   "source": [
    "def gen_data(n, mu, sigma, p):\n",
    "    labels = torch.bernoulli(torch.Tensor(n, 1).fill_(p))\n",
    "    clusterId = torch.bernoulli(torch.Tensor(n, 1).fill_(0.75)).long()\n",
    "    ones = torch.normal(mu*(2*clusterId-1), sigma)\n",
    "    zeros = torch.normal(-mu*(2*clusterId-1), sigma)\n",
    "    data = torch.where(labels==1, ones, zeros)\n",
    "    return data, labels"
   ]
  },
  {
   "cell_type": "code",
   "execution_count": 24,
   "metadata": {},
   "outputs": [],
   "source": [
    "def grad_by_data_on_model(model, xs):\n",
    "    model.zero_grad()\n",
    "    probPred = torch.sigmoid(model(xs))\n",
    "    labelPred = (probPred > 0.5).float().detach()\n",
    "    loss = F.binary_cross_entropy(probPred, labelPred)\n",
    "    loss.backward()\n",
    "    return model[0].weight.grad.data.clone(), model[0].bias.grad.data.clone()"
   ]
  },
  {
   "cell_type": "code",
   "execution_count": 46,
   "metadata": {},
   "outputs": [],
   "source": [
    "n = 5000\n",
    "d = 1\n",
    "mu = 1.\n",
    "sigma = 1.\n",
    "pSource = 0.5\n",
    "pTarget = .95"
   ]
  },
  {
   "cell_type": "code",
   "execution_count": 47,
   "metadata": {},
   "outputs": [],
   "source": [
    "x, y = gen_data(1000, mu, sigma, pTarget)"
   ]
  },
  {
   "cell_type": "code",
   "execution_count": 48,
   "metadata": {},
   "outputs": [
    {
     "name": "stderr",
     "output_type": "stream",
     "text": [
      "/var/folders/_x/wtryhxsj37vd8b_d3pb8klt40000gn/T/ipykernel_1673/1133744714.py:3: UserWarning: To copy construct from a tensor, it is recommended to use sourceTensor.clone().detach() or sourceTensor.clone().detach().requires_grad_(True), rather than torch.tensor(sourceTensor).\n",
      "  model[0].bias.data = -torch.tensor(torch.sum(torch.mean(x, dim=0))).float()\n"
     ]
    }
   ],
   "source": [
    "model = nn.Sequential(nn.Linear(1, 1))\n",
    "model[0].weight.data = torch.tensor([[1.]]).float()\n",
    "model[0].bias.data = -torch.tensor(torch.sum(torch.mean(x, dim=0))).float()"
   ]
  },
  {
   "cell_type": "code",
   "execution_count": 49,
   "metadata": {},
   "outputs": [],
   "source": [
    "wGradPos, bGradPos = grad_by_data_on_model(model, x[x>0, None])\n",
    "wGradNeg, bGradNeg = grad_by_data_on_model(model, x[x<0, None])"
   ]
  },
  {
   "cell_type": "code",
   "execution_count": 50,
   "metadata": {},
   "outputs": [
    {
     "data": {
      "text/plain": [
       "(tensor(0.0682), tensor([[-0.3802]]))"
      ]
     },
     "execution_count": 50,
     "metadata": {},
     "output_type": "execute_result"
    }
   ],
   "source": [
    "bGradNeg + bGradPos, wGradNeg + wGradPos"
   ]
  },
  {
   "cell_type": "code",
   "execution_count": null,
   "metadata": {},
   "outputs": [],
   "source": []
  }
 ],
 "metadata": {
  "kernelspec": {
   "display_name": "base",
   "language": "python",
   "name": "python3"
  },
  "language_info": {
   "codemirror_mode": {
    "name": "ipython",
    "version": 3
   },
   "file_extension": ".py",
   "mimetype": "text/x-python",
   "name": "python",
   "nbconvert_exporter": "python",
   "pygments_lexer": "ipython3",
   "version": "3.9.12"
  },
  "orig_nbformat": 4,
  "vscode": {
   "interpreter": {
    "hash": "1fe8eaf950b0cf64c1b70de22759d9a144a2595c541b4003711edd1f96d908e5"
   }
  }
 },
 "nbformat": 4,
 "nbformat_minor": 2
}
